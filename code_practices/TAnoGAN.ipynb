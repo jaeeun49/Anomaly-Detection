{
 "cells": [
  {
   "cell_type": "markdown",
   "metadata": {},
   "source": [
    "Source : https://github.com/mdabashar/TAnoGAN "
   ]
  },
  {
   "cell_type": "markdown",
   "metadata": {},
   "source": [
    "## TAnoGAN: Time Series Anomaly Detection with Generative Adversarial Networks\n",
    "\n",
    "Published in: 2020 IEEE Symposium Series on Computational Intelligence (SSCI)\n",
    "\n",
    "Paper link: https://ieeexplore.ieee.org/abstract/document/9308512"
   ]
  },
  {
   "cell_type": "markdown",
   "metadata": {},
   "source": [
    "### Import required libraries"
   ]
  },
  {
   "cell_type": "code",
   "execution_count": 1,
   "metadata": {},
   "outputs": [],
   "source": [
    "import os\n",
    "import json\n",
    "import random\n",
    "import torch\n",
    "import pandas as pd\n",
    "import torch.nn as nn\n",
    "from collections import Counter\n",
    "import torch.backends.cudnn as cudnn\n",
    "import torch.optim as optim\n",
    "import torch.utils.data\n",
    "import torchvision\n",
    "import torch.nn.init as init\n",
    "from torch.autograd import Variable\n",
    "import datetime\n",
    "import warnings\n",
    "warnings.filterwarnings('ignore')\n",
    "from nab_dataset import NabDataset\n",
    "from models.recurrent_models_pyramid import LSTMGenerator, LSTMDiscriminator"
   ]
  },
  {
   "cell_type": "markdown",
   "metadata": {},
   "source": [
    "#### Define Basic Settings for Adversarial Training"
   ]
  },
  {
   "cell_type": "code",
   "execution_count": 2,
   "metadata": {},
   "outputs": [],
   "source": [
    "class ArgsTrn:\n",
    "    workers=4\n",
    "    batch_size=32\n",
    "    epochs=20\n",
    "    lr=0.0002\n",
    "    cuda = True\n",
    "    manualSeed=2\n",
    "    \n",
    "opt_trn=ArgsTrn()"
   ]
  },
  {
   "cell_type": "code",
   "execution_count": 3,
   "metadata": {},
   "outputs": [],
   "source": [
    "torch.manual_seed(opt_trn.manualSeed)\n",
    "cudnn.benchmark = True"
   ]
  },
  {
   "cell_type": "markdown",
   "metadata": {},
   "source": [
    "### Setup Data Loader"
   ]
  },
  {
   "cell_type": "code",
   "execution_count": 4,
   "metadata": {},
   "outputs": [],
   "source": [
    "# location of datasets and category\n",
    "end_name = 'ambient_temperature_system_failure.csv' # dataset name\n",
    "data_file = 'realKnownCause/realKnownCause/'+end_name # dataset category and dataset name\n",
    "key = 'realKnownCause/'+end_name # This key is used for reading anomaly labels"
   ]
  },
  {
   "cell_type": "code",
   "execution_count": 5,
   "metadata": {},
   "outputs": [],
   "source": [
    "# settings for data loader\n",
    "class DataSettings:\n",
    "    \n",
    "    def __init__(self):\n",
    "        self.BASE = 'C:/Users/today/Anormal Detection/data/NabDataset/'\n",
    "        self.label_file = 'labels/combined_windows.json'\n",
    "        self.data_file = data_file\n",
    "        self.key = key\n",
    "        self.train = True\n",
    "        self.window_length = 60\n",
    "    \n",
    "    \n",
    "data_settings = DataSettings()"
   ]
  },
  {
   "cell_type": "code",
   "execution_count": 6,
   "metadata": {},
   "outputs": [
    {
     "data": {
      "text/plain": [
       "(torch.Size([7207, 60, 1]), torch.Size([7207]))"
      ]
     },
     "execution_count": 6,
     "metadata": {},
     "output_type": "execute_result"
    }
   ],
   "source": [
    "# define dataset object and data loader object for NAB dataset\n",
    "dataset = NabDataset(data_settings=data_settings)\n",
    "dataloader = torch.utils.data.DataLoader(dataset, batch_size=opt_trn.batch_size,\n",
    "                                         shuffle=True, num_workers=int(opt_trn.workers))\n",
    "\n",
    "dataset.x.shape, dataset.y.shape # check the dataset shape"
   ]
  },
  {
   "cell_type": "markdown",
   "metadata": {},
   "source": [
    "### Dataset Example"
   ]
  },
  {
   "cell_type": "code",
   "execution_count": 7,
   "metadata": {},
   "outputs": [
    {
     "data": {
      "text/html": [
       "<div>\n",
       "<style scoped>\n",
       "    .dataframe tbody tr th:only-of-type {\n",
       "        vertical-align: middle;\n",
       "    }\n",
       "\n",
       "    .dataframe tbody tr th {\n",
       "        vertical-align: top;\n",
       "    }\n",
       "\n",
       "    .dataframe thead th {\n",
       "        text-align: right;\n",
       "    }\n",
       "</style>\n",
       "<table border=\"1\" class=\"dataframe\">\n",
       "  <thead>\n",
       "    <tr style=\"text-align: right;\">\n",
       "      <th></th>\n",
       "      <th>timestamp</th>\n",
       "      <th>value</th>\n",
       "    </tr>\n",
       "  </thead>\n",
       "  <tbody>\n",
       "    <tr>\n",
       "      <th>7264</th>\n",
       "      <td>2014-05-28 13:00:00</td>\n",
       "      <td>72.046565</td>\n",
       "    </tr>\n",
       "    <tr>\n",
       "      <th>7265</th>\n",
       "      <td>2014-05-28 14:00:00</td>\n",
       "      <td>71.825226</td>\n",
       "    </tr>\n",
       "    <tr>\n",
       "      <th>7266</th>\n",
       "      <td>2014-05-28 15:00:00</td>\n",
       "      <td>72.584089</td>\n",
       "    </tr>\n",
       "  </tbody>\n",
       "</table>\n",
       "</div>"
      ],
      "text/plain": [
       "                timestamp      value\n",
       "7264  2014-05-28 13:00:00  72.046565\n",
       "7265  2014-05-28 14:00:00  71.825226\n",
       "7266  2014-05-28 15:00:00  72.584089"
      ]
     },
     "execution_count": 7,
     "metadata": {},
     "output_type": "execute_result"
    }
   ],
   "source": [
    "pd.read_csv(data_settings.BASE + data_settings.data_file).tail(3)"
   ]
  },
  {
   "cell_type": "code",
   "execution_count": 8,
   "metadata": {},
   "outputs": [
    {
     "name": "stdout",
     "output_type": "stream",
     "text": [
      "58\n"
     ]
    }
   ],
   "source": [
    "with open(data_settings.BASE + data_settings.label_file, 'r') as f:\n",
    "    json_data = json.load(f)\n",
    "    \n",
    "# 58개의 csv파일에 대한 이상치인 날짜에 대한 정보가 포함\n",
    "print(len(json_data.keys()))"
   ]
  },
  {
   "cell_type": "code",
   "execution_count": 9,
   "metadata": {},
   "outputs": [
    {
     "data": {
      "text/plain": [
       "[['2013-12-15 07:00:00.000000', '2013-12-30 09:00:00.000000'],\n",
       " ['2014-03-29 15:00:00.000000', '2014-04-20 22:00:00.000000']]"
      ]
     },
     "execution_count": 9,
     "metadata": {},
     "output_type": "execute_result"
    }
   ],
   "source": [
    "json_data['realKnownCause/ambient_temperature_system_failure.csv']"
   ]
  },
  {
   "cell_type": "markdown",
   "metadata": {},
   "source": [
    "- ['2013-12-15 07:00:00.000000', '2013-12-30 09:00:00.000000'] 사이에 속한 데이터는 모두 이상치이다. \n",
    "- ['2014-03-29 15:00:00.000000', '2014-04-20 22:00:00.000000'] 사이에 속한 데이터는 모두 이상치이다. "
   ]
  },
  {
   "cell_type": "code",
   "execution_count": 10,
   "metadata": {},
   "outputs": [
    {
     "data": {
      "text/plain": [
       "Counter({0.0: 6363, 1.0: 844})"
      ]
     },
     "execution_count": 10,
     "metadata": {},
     "output_type": "execute_result"
    }
   ],
   "source": [
    "Counter(dataset.y.tolist())"
   ]
  },
  {
   "cell_type": "markdown",
   "metadata": {},
   "source": [
    "- 총 7207개의 데이터 중 844개의 이상치가 존재"
   ]
  },
  {
   "cell_type": "markdown",
   "metadata": {},
   "source": [
    "### Setup Models"
   ]
  },
  {
   "cell_type": "code",
   "execution_count": 11,
   "metadata": {},
   "outputs": [],
   "source": [
    "#device = torch.device(\"cuda\" if torch.cuda.is_available else \"cpu\") # select the device\n",
    "device = 'cpu'\n",
    "seq_len = dataset.window_length # sequence length is equal to the window length\n",
    "in_dim = dataset.n_feature # input dimension is same as number of feature"
   ]
  },
  {
   "cell_type": "code",
   "execution_count": 14,
   "metadata": {},
   "outputs": [
    {
     "name": "stdout",
     "output_type": "stream",
     "text": [
      "60\n",
      "1\n"
     ]
    }
   ],
   "source": [
    "print(seq_len)\n",
    "print(in_dim)"
   ]
  },
  {
   "cell_type": "code",
   "execution_count": 12,
   "metadata": {},
   "outputs": [],
   "source": [
    "# Create generator and discriminator models\n",
    "netD = LSTMDiscriminator(in_dim=in_dim, device=device).to(device)\n",
    "netG = LSTMGenerator(in_dim=in_dim, out_dim=in_dim, device=device).to(device)"
   ]
  },
  {
   "cell_type": "code",
   "execution_count": 13,
   "metadata": {},
   "outputs": [
    {
     "name": "stdout",
     "output_type": "stream",
     "text": [
      "|Discriminator Architecture|\n",
      " LSTMDiscriminator(\n",
      "  (lstm): LSTM(1, 100, batch_first=True)\n",
      "  (linear): Sequential(\n",
      "    (0): Linear(in_features=100, out_features=1, bias=True)\n",
      "    (1): Sigmoid()\n",
      "  )\n",
      ")\n",
      "|Generator Architecture|\n",
      " LSTMGenerator(\n",
      "  (lstm0): LSTM(1, 32, batch_first=True)\n",
      "  (lstm1): LSTM(32, 64, batch_first=True)\n",
      "  (lstm2): LSTM(64, 128, batch_first=True)\n",
      "  (linear): Sequential(\n",
      "    (0): Linear(in_features=128, out_features=1, bias=True)\n",
      "    (1): Tanh()\n",
      "  )\n",
      ")\n"
     ]
    }
   ],
   "source": [
    "print(\"|Discriminator Architecture|\\n\", netD)\n",
    "print(\"|Generator Architecture|\\n\", netG)"
   ]
  },
  {
   "cell_type": "code",
   "execution_count": 15,
   "metadata": {},
   "outputs": [],
   "source": [
    "# Setup loss function\n",
    "criterion = nn.BCELoss().to(device)"
   ]
  },
  {
   "cell_type": "code",
   "execution_count": 16,
   "metadata": {},
   "outputs": [],
   "source": [
    "# setup optimizer\n",
    "optimizerD = optim.Adam(netD.parameters(), lr=opt_trn.lr)\n",
    "optimizerG = optim.Adam(netG.parameters(), lr=opt_trn.lr)"
   ]
  },
  {
   "cell_type": "markdown",
   "metadata": {},
   "source": [
    "### Adversarial Training of Generator and Discriminator Models"
   ]
  },
  {
   "cell_type": "code",
   "execution_count": 18,
   "metadata": {},
   "outputs": [
    {
     "name": "stdout",
     "output_type": "stream",
     "text": [
      "[0/20][225/226] Loss_D: 0.7833 Loss_G: 0.7177 D(x): 0.9093 D(G(z)): 0.4901 / 0.4887\n",
      "[1/20][225/226] Loss_D: 0.3843 Loss_G: 1.5322 D(x): 0.9226 D(G(z)): 0.2340 / 0.2339\n",
      "[2/20][225/226] Loss_D: 0.2464 Loss_G: 2.4108 D(x): 0.9373 D(G(z)): 0.1350 / 0.1338\n",
      "[3/20][225/226] Loss_D: 1.6311 Loss_G: 0.4915 D(x): 0.5735 D(G(z)): 0.6167 / 0.6146\n",
      "[4/20][225/226] Loss_D: 1.3726 Loss_G: 0.6816 D(x): 0.5145 D(G(z)): 0.5061 / 0.5065\n",
      "[5/20][225/226] Loss_D: 1.1300 Loss_G: 0.7743 D(x): 0.6378 D(G(z)): 0.4639 / 0.4646\n",
      "[6/20][225/226] Loss_D: 1.2449 Loss_G: 0.6491 D(x): 0.6314 D(G(z)): 0.5227 / 0.5227\n",
      "[7/20][225/226] Loss_D: 0.9726 Loss_G: 0.6645 D(x): 0.8156 D(G(z)): 0.5157 / 0.5149\n",
      "[8/20][225/226] Loss_D: 1.1071 Loss_G: 0.6873 D(x): 0.7050 D(G(z)): 0.5044 / 0.5035\n",
      "[9/20][225/226] Loss_D: 1.0262 Loss_G: 0.6942 D(x): 0.7629 D(G(z)): 0.5002 / 0.4997\n",
      "[10/20][225/226] Loss_D: 0.7131 Loss_G: 0.9562 D(x): 0.8326 D(G(z)): 0.3878 / 0.3876\n",
      "[11/20][225/226] Loss_D: 0.4001 Loss_G: 1.4766 D(x): 0.9289 D(G(z)): 0.2479 / 0.2476\n",
      "[12/20][225/226] Loss_D: 0.9428 Loss_G: 1.4229 D(x): 0.6486 D(G(z)): 0.2505 / 0.2509\n",
      "[13/20][225/226] Loss_D: 0.9068 Loss_G: 1.1419 D(x): 0.6838 D(G(z)): 0.3251 / 0.3252\n",
      "[14/20][225/226] Loss_D: 0.7950 Loss_G: 1.3066 D(x): 0.7493 D(G(z)): 0.2801 / 0.2797\n",
      "[15/20][225/226] Loss_D: 0.4578 Loss_G: 1.6735 D(x): 0.8777 D(G(z)): 0.2027 / 0.2034\n",
      "[16/20][225/226] Loss_D: 0.2841 Loss_G: 1.6539 D(x): 0.9725 D(G(z)): 0.2098 / 0.2094\n",
      "[17/20][225/226] Loss_D: 1.4487 Loss_G: 0.5297 D(x): 0.5803 D(G(z)): 0.5899 / 0.5905\n",
      "[18/20][225/226] Loss_D: 1.2766 Loss_G: 0.5822 D(x): 0.6534 D(G(z)): 0.5607 / 0.5600\n",
      "[19/20][225/226] Loss_D: 1.0961 Loss_G: 0.5963 D(x): 0.7801 D(G(z)): 0.5527 / 0.5519\n"
     ]
    }
   ],
   "source": [
    "real_label = 1\n",
    "fake_label = 0\n",
    "\n",
    "for epoch in range(opt_trn.epochs):\n",
    "    for i, (x,y) in enumerate(dataloader, 0):\n",
    "        \n",
    "        ############################\n",
    "        # (1) Update D network: maximize log(D(x)) + log(1 - D(G(z)))\n",
    "        ###########################\n",
    "\n",
    "        #Train with real data\n",
    "        netD.zero_grad()\n",
    "        real = x.to(device)\n",
    "        batch_size, seq_len = real.size(0), real.size(1)\n",
    "        label = torch.full((batch_size, seq_len, 1), real_label, device=device)\n",
    "\n",
    "        output,_ = netD.forward(real)\n",
    "        errD_real = criterion(output, label.float())\n",
    "        errD_real.backward()\n",
    "        optimizerD.step()\n",
    "        D_x = output.mean().item()\n",
    "        \n",
    "        #Train with fake data\n",
    "        noise = Variable(init.normal(torch.Tensor(batch_size,seq_len,in_dim),mean=0,std=0.1))\n",
    "        fake,_ = netG.forward(noise)\n",
    "        output,_ = netD.forward(fake.detach()) # detach causes gradient is no longer being computed or stored to save memeory\n",
    "        label.fill_(fake_label)\n",
    "        errD_fake = criterion(output, label.float())\n",
    "        errD_fake.backward()\n",
    "        D_G_z1 = output.mean().item()\n",
    "        errD = errD_real + errD_fake\n",
    "        optimizerD.step()\n",
    "        \n",
    "        ############################\n",
    "        # (2) Update G network: maximize log(D(G(z)))\n",
    "        ###########################\n",
    "        netG.zero_grad()\n",
    "        noise = Variable(init.normal(torch.Tensor(batch_size,seq_len,in_dim),mean=0,std=0.1))\n",
    "        fake,_ = netG.forward(noise)\n",
    "        label.fill_(real_label) \n",
    "        output,_ = netD.forward(fake)\n",
    "        errG = criterion(output, label.float())\n",
    "        errG.backward()\n",
    "        optimizerG.step()\n",
    "        D_G_z2 = output.mean().item()\n",
    "        \n",
    "        \n",
    "\n",
    "    print('[%d/%d][%d/%d] Loss_D: %.4f Loss_G: %.4f D(x): %.4f D(G(z)): %.4f / %.4f' \n",
    "          % (epoch, opt_trn.epochs, i, len(dataloader),\n",
    "             errD.item(), errG.item(), D_x, D_G_z1, D_G_z2), end='')\n",
    "    print()"
   ]
  },
  {
   "cell_type": "markdown",
   "metadata": {},
   "source": [
    "## Anomaly Detection"
   ]
  },
  {
   "cell_type": "markdown",
   "metadata": {},
   "source": [
    "#### Define basic settings for inverse mapping"
   ]
  },
  {
   "cell_type": "code",
   "execution_count": 19,
   "metadata": {},
   "outputs": [],
   "source": [
    "class ArgsTest:\n",
    "    workers = 1\n",
    "    batch_size = 1\n",
    "    \n",
    "opt_test=ArgsTest()    "
   ]
  },
  {
   "cell_type": "code",
   "execution_count": 20,
   "metadata": {},
   "outputs": [],
   "source": [
    "generator = netG # changing reference variable \n",
    "discriminator = netD # changing reference variable "
   ]
  },
  {
   "cell_type": "markdown",
   "metadata": {},
   "source": [
    "##### Define Test Data"
   ]
  },
  {
   "cell_type": "code",
   "execution_count": 21,
   "metadata": {},
   "outputs": [],
   "source": [
    "# Define settings for loading data in evaluation mood\n",
    "class TestDataSettings:\n",
    "    \n",
    "    def __init__(self):\n",
    "        self.BASE = 'C:/Users/today/Anormal Detection/data/NabDataset/'\n",
    "        self.label_file = 'labels/combined_windows.json'\n",
    "        self.data_file = data_file\n",
    "        self.key = key\n",
    "        self.train = False\n",
    "\n",
    "        \n",
    "test_data_settings = TestDataSettings()"
   ]
  },
  {
   "cell_type": "code",
   "execution_count": 22,
   "metadata": {},
   "outputs": [
    {
     "data": {
      "text/plain": [
       "(torch.Size([121, 60, 1]), torch.Size([121]), 121)"
      ]
     },
     "execution_count": 22,
     "metadata": {},
     "output_type": "execute_result"
    }
   ],
   "source": [
    "# define dataset object and data loader object in evaluation mood for NAB dataset\n",
    "\n",
    "test_dataset = NabDataset(test_data_settings)\n",
    "test_dataloader = torch.utils.data.DataLoader(test_dataset, batch_size=opt_test.batch_size, \n",
    "                                         shuffle=False, num_workers=int(opt_test.workers))\n",
    "\n",
    "test_dataset.x.shape, test_dataset.y.shape, test_dataset.data_len # check the dataset shape"
   ]
  },
  {
   "cell_type": "markdown",
   "metadata": {},
   "source": [
    "#### Define a function to calculate anomaly score"
   ]
  },
  {
   "cell_type": "code",
   "execution_count": 23,
   "metadata": {},
   "outputs": [],
   "source": [
    "# Lambda = 0.1 according to paper\n",
    "# x is new data, G_z is closely regenerated data\n",
    "\n",
    "def Anomaly_score(x, G_z, Lambda=0.1):\n",
    "    residual_loss = torch.sum(torch.abs(x-G_z)) # Residual Loss\n",
    "    \n",
    "    # x_feature is a rich intermediate feature representation for real data x\n",
    "    output, x_feature = discriminator(x.to(device)) \n",
    "    # G_z_feature is a rich intermediate feature representation for fake data G(z)\n",
    "    output, G_z_feature = discriminator(G_z.to(device)) \n",
    "    \n",
    "    discrimination_loss = torch.sum(torch.abs(x_feature-G_z_feature)) # Discrimination loss\n",
    "    \n",
    "    total_loss = (1-Lambda)*residual_loss.to(device) + Lambda*discrimination_loss\n",
    "    return total_loss"
   ]
  },
  {
   "cell_type": "markdown",
   "metadata": {},
   "source": [
    "### Inverse mapping to latent space and reconstruction of data for estimating anomaly score"
   ]
  },
  {
   "cell_type": "code",
   "execution_count": 24,
   "metadata": {},
   "outputs": [
    {
     "name": "stdout",
     "output_type": "stream",
     "text": [
      "0 tensor([0.])\n",
      "~~~~~~~~loss=38.368408203125,  y=tensor([0.]) ~~~~~~~~~~\n",
      "1 tensor([0.])\n",
      "~~~~~~~~loss=116.76396179199219,  y=tensor([0.]) ~~~~~~~~~~\n",
      "2 tensor([0.])\n",
      "~~~~~~~~loss=74.82552337646484,  y=tensor([0.]) ~~~~~~~~~~\n",
      "3 tensor([0.])\n",
      "~~~~~~~~loss=35.73017120361328,  y=tensor([0.]) ~~~~~~~~~~\n",
      "4 tensor([0.])\n",
      "~~~~~~~~loss=82.8939208984375,  y=tensor([0.]) ~~~~~~~~~~\n",
      "5 tensor([0.])\n",
      "~~~~~~~~loss=43.41790008544922,  y=tensor([0.]) ~~~~~~~~~~\n",
      "6 tensor([0.])\n",
      "~~~~~~~~loss=508.2452392578125,  y=tensor([0.]) ~~~~~~~~~~\n",
      "7 tensor([0.])\n",
      "~~~~~~~~loss=84.18233489990234,  y=tensor([0.]) ~~~~~~~~~~\n",
      "8 tensor([0.])\n",
      "~~~~~~~~loss=37.75115966796875,  y=tensor([0.]) ~~~~~~~~~~\n",
      "9 tensor([0.])\n",
      "~~~~~~~~loss=96.33899688720703,  y=tensor([0.]) ~~~~~~~~~~\n",
      "10 tensor([0.])\n",
      "~~~~~~~~loss=21.868040084838867,  y=tensor([0.]) ~~~~~~~~~~\n",
      "11 tensor([0.])\n",
      "~~~~~~~~loss=528.05126953125,  y=tensor([0.]) ~~~~~~~~~~\n",
      "12 tensor([0.])\n",
      "~~~~~~~~loss=71.39318084716797,  y=tensor([0.]) ~~~~~~~~~~\n",
      "13 tensor([0.])\n",
      "~~~~~~~~loss=20.216474533081055,  y=tensor([0.]) ~~~~~~~~~~\n",
      "14 tensor([0.])\n",
      "~~~~~~~~loss=66.67740631103516,  y=tensor([0.]) ~~~~~~~~~~\n",
      "15 tensor([0.])\n",
      "~~~~~~~~loss=99.97361755371094,  y=tensor([0.]) ~~~~~~~~~~\n",
      "16 tensor([0.])\n",
      "~~~~~~~~loss=50.44524383544922,  y=tensor([0.]) ~~~~~~~~~~\n",
      "17 tensor([0.])\n",
      "~~~~~~~~loss=141.6580810546875,  y=tensor([0.]) ~~~~~~~~~~\n",
      "18 tensor([0.])\n",
      "~~~~~~~~loss=82.40573120117188,  y=tensor([0.]) ~~~~~~~~~~\n",
      "19 tensor([0.])\n",
      "~~~~~~~~loss=60.59165954589844,  y=tensor([0.]) ~~~~~~~~~~\n",
      "20 tensor([0.])\n",
      "~~~~~~~~loss=122.23651123046875,  y=tensor([0.]) ~~~~~~~~~~\n",
      "21 tensor([0.])\n",
      "~~~~~~~~loss=75.14865112304688,  y=tensor([0.]) ~~~~~~~~~~\n",
      "22 tensor([0.])\n",
      "~~~~~~~~loss=96.57754516601562,  y=tensor([0.]) ~~~~~~~~~~\n",
      "23 tensor([0.])\n",
      "~~~~~~~~loss=55.593162536621094,  y=tensor([0.]) ~~~~~~~~~~\n",
      "24 tensor([0.])\n",
      "~~~~~~~~loss=29.811161041259766,  y=tensor([0.]) ~~~~~~~~~~\n",
      "25 tensor([0.])\n",
      "~~~~~~~~loss=38.490867614746094,  y=tensor([0.]) ~~~~~~~~~~\n",
      "26 tensor([0.])\n",
      "~~~~~~~~loss=510.9063720703125,  y=tensor([0.]) ~~~~~~~~~~\n",
      "27 tensor([0.])\n",
      "~~~~~~~~loss=72.37977600097656,  y=tensor([0.]) ~~~~~~~~~~\n",
      "28 tensor([0.])\n",
      "~~~~~~~~loss=45.86518096923828,  y=tensor([0.]) ~~~~~~~~~~\n",
      "29 tensor([0.])\n",
      "~~~~~~~~loss=21.356828689575195,  y=tensor([0.]) ~~~~~~~~~~\n",
      "30 tensor([0.])\n",
      "~~~~~~~~loss=580.5226440429688,  y=tensor([0.]) ~~~~~~~~~~\n",
      "31 tensor([0.])\n",
      "~~~~~~~~loss=560.9052734375,  y=tensor([0.]) ~~~~~~~~~~\n",
      "32 tensor([0.])\n",
      "~~~~~~~~loss=560.8060302734375,  y=tensor([0.]) ~~~~~~~~~~\n",
      "33 tensor([0.])\n",
      "~~~~~~~~loss=63.60137176513672,  y=tensor([0.]) ~~~~~~~~~~\n",
      "34 tensor([0.])\n",
      "~~~~~~~~loss=519.7557983398438,  y=tensor([0.]) ~~~~~~~~~~\n",
      "35 tensor([0.])\n",
      "~~~~~~~~loss=13.233373641967773,  y=tensor([0.]) ~~~~~~~~~~\n",
      "36 tensor([0.])\n",
      "~~~~~~~~loss=500.01019287109375,  y=tensor([0.]) ~~~~~~~~~~\n",
      "37 tensor([0.])\n",
      "~~~~~~~~loss=17.650726318359375,  y=tensor([0.]) ~~~~~~~~~~\n",
      "38 tensor([0.])\n",
      "~~~~~~~~loss=532.1480712890625,  y=tensor([0.]) ~~~~~~~~~~\n",
      "39 tensor([0.])\n",
      "~~~~~~~~loss=18.294992446899414,  y=tensor([0.]) ~~~~~~~~~~\n",
      "40 tensor([0.])\n",
      "~~~~~~~~loss=522.9762573242188,  y=tensor([0.]) ~~~~~~~~~~\n",
      "41 tensor([0.])\n",
      "~~~~~~~~loss=555.8173828125,  y=tensor([0.]) ~~~~~~~~~~\n",
      "42 tensor([0.])\n",
      "~~~~~~~~loss=549.8824462890625,  y=tensor([0.]) ~~~~~~~~~~\n",
      "43 tensor([0.])\n",
      "~~~~~~~~loss=563.0736694335938,  y=tensor([0.]) ~~~~~~~~~~\n",
      "44 tensor([0.])\n",
      "~~~~~~~~loss=535.7896728515625,  y=tensor([0.]) ~~~~~~~~~~\n",
      "45 tensor([0.])\n",
      "~~~~~~~~loss=505.99981689453125,  y=tensor([0.]) ~~~~~~~~~~\n",
      "46 tensor([0.])\n",
      "~~~~~~~~loss=531.475830078125,  y=tensor([0.]) ~~~~~~~~~~\n",
      "47 tensor([0.])\n",
      "~~~~~~~~loss=22.649578094482422,  y=tensor([0.]) ~~~~~~~~~~\n",
      "48 tensor([0.])\n",
      "~~~~~~~~loss=19.64354705810547,  y=tensor([0.]) ~~~~~~~~~~\n",
      "49 tensor([0.])\n",
      "~~~~~~~~loss=541.4105834960938,  y=tensor([0.]) ~~~~~~~~~~\n",
      "50 tensor([0.])\n",
      "~~~~~~~~loss=538.9391479492188,  y=tensor([0.]) ~~~~~~~~~~\n",
      "51 tensor([0.])\n",
      "~~~~~~~~loss=549.0257568359375,  y=tensor([0.]) ~~~~~~~~~~\n",
      "52 tensor([0.])\n",
      "~~~~~~~~loss=586.6876831054688,  y=tensor([0.]) ~~~~~~~~~~\n",
      "53 tensor([0.])\n",
      "~~~~~~~~loss=572.3462524414062,  y=tensor([0.]) ~~~~~~~~~~\n",
      "54 tensor([0.])\n",
      "~~~~~~~~loss=550.405517578125,  y=tensor([0.]) ~~~~~~~~~~\n",
      "55 tensor([0.])\n",
      "~~~~~~~~loss=555.7868041992188,  y=tensor([0.]) ~~~~~~~~~~\n",
      "56 tensor([0.])\n",
      "~~~~~~~~loss=539.2616577148438,  y=tensor([0.]) ~~~~~~~~~~\n",
      "57 tensor([0.])\n",
      "~~~~~~~~loss=56.4033203125,  y=tensor([0.]) ~~~~~~~~~~\n",
      "58 tensor([0.])\n",
      "~~~~~~~~loss=555.9724731445312,  y=tensor([0.]) ~~~~~~~~~~\n",
      "59 tensor([1.])\n",
      "~~~~~~~~loss=581.2213745117188,  y=tensor([1.]) ~~~~~~~~~~\n",
      "60 tensor([1.])\n",
      "~~~~~~~~loss=561.7268676757812,  y=tensor([1.]) ~~~~~~~~~~\n",
      "61 tensor([1.])\n",
      "~~~~~~~~loss=625.113037109375,  y=tensor([1.]) ~~~~~~~~~~\n",
      "62 tensor([1.])\n",
      "~~~~~~~~loss=652.9033203125,  y=tensor([1.]) ~~~~~~~~~~\n",
      "63 tensor([1.])\n",
      "~~~~~~~~loss=581.4497680664062,  y=tensor([1.]) ~~~~~~~~~~\n",
      "64 tensor([1.])\n",
      "~~~~~~~~loss=559.1022338867188,  y=tensor([1.]) ~~~~~~~~~~\n",
      "65 tensor([1.])\n",
      "~~~~~~~~loss=578.5636596679688,  y=tensor([1.]) ~~~~~~~~~~\n",
      "66 tensor([0.])\n",
      "~~~~~~~~loss=559.7904663085938,  y=tensor([0.]) ~~~~~~~~~~\n",
      "67 tensor([0.])\n",
      "~~~~~~~~loss=68.4686279296875,  y=tensor([0.]) ~~~~~~~~~~\n",
      "68 tensor([0.])\n",
      "~~~~~~~~loss=546.5894775390625,  y=tensor([0.]) ~~~~~~~~~~\n",
      "69 tensor([0.])\n",
      "~~~~~~~~loss=536.0306396484375,  y=tensor([0.]) ~~~~~~~~~~\n",
      "70 tensor([0.])\n",
      "~~~~~~~~loss=596.8973999023438,  y=tensor([0.]) ~~~~~~~~~~\n",
      "71 tensor([0.])\n",
      "~~~~~~~~loss=550.2306518554688,  y=tensor([0.]) ~~~~~~~~~~\n",
      "72 tensor([0.])\n",
      "~~~~~~~~loss=526.0315551757812,  y=tensor([0.]) ~~~~~~~~~~\n",
      "73 tensor([0.])\n",
      "~~~~~~~~loss=524.7365112304688,  y=tensor([0.]) ~~~~~~~~~~\n",
      "74 tensor([0.])\n",
      "~~~~~~~~loss=527.0753784179688,  y=tensor([0.]) ~~~~~~~~~~\n",
      "75 tensor([0.])\n",
      "~~~~~~~~loss=499.8489990234375,  y=tensor([0.]) ~~~~~~~~~~\n",
      "76 tensor([0.])\n",
      "~~~~~~~~loss=20.334487915039062,  y=tensor([0.]) ~~~~~~~~~~\n",
      "77 tensor([0.])\n",
      "~~~~~~~~loss=40.351600646972656,  y=tensor([0.]) ~~~~~~~~~~\n",
      "78 tensor([0.])\n",
      "~~~~~~~~loss=509.29443359375,  y=tensor([0.]) ~~~~~~~~~~\n",
      "79 tensor([0.])\n",
      "~~~~~~~~loss=25.655887603759766,  y=tensor([0.]) ~~~~~~~~~~\n",
      "80 tensor([0.])\n",
      "~~~~~~~~loss=511.74517822265625,  y=tensor([0.]) ~~~~~~~~~~\n",
      "81 tensor([0.])\n",
      "~~~~~~~~loss=30.60419464111328,  y=tensor([0.]) ~~~~~~~~~~\n",
      "82 tensor([0.])\n",
      "~~~~~~~~loss=501.7119140625,  y=tensor([0.]) ~~~~~~~~~~\n",
      "83 tensor([0.])\n",
      "~~~~~~~~loss=23.99365997314453,  y=tensor([0.]) ~~~~~~~~~~\n",
      "84 tensor([0.])\n",
      "~~~~~~~~loss=94.48788452148438,  y=tensor([0.]) ~~~~~~~~~~\n",
      "85 tensor([0.])\n",
      "~~~~~~~~loss=51.53453063964844,  y=tensor([0.]) ~~~~~~~~~~\n",
      "86 tensor([0.])\n",
      "~~~~~~~~loss=40.79035186767578,  y=tensor([0.]) ~~~~~~~~~~\n",
      "87 tensor([0.])\n",
      "~~~~~~~~loss=37.47416687011719,  y=tensor([0.]) ~~~~~~~~~~\n",
      "88 tensor([0.])\n",
      "~~~~~~~~loss=512.2987060546875,  y=tensor([0.]) ~~~~~~~~~~\n",
      "89 tensor([0.])\n",
      "~~~~~~~~loss=59.46830749511719,  y=tensor([0.]) ~~~~~~~~~~\n",
      "90 tensor([0.])\n",
      "~~~~~~~~loss=72.3805923461914,  y=tensor([0.]) ~~~~~~~~~~\n",
      "91 tensor([0.])\n",
      "~~~~~~~~loss=119.96868896484375,  y=tensor([0.]) ~~~~~~~~~~\n",
      "92 tensor([0.])\n",
      "~~~~~~~~loss=127.43000793457031,  y=tensor([0.]) ~~~~~~~~~~\n",
      "93 tensor([0.])\n",
      "~~~~~~~~loss=39.55923080444336,  y=tensor([0.]) ~~~~~~~~~~\n",
      "94 tensor([0.])\n",
      "~~~~~~~~loss=77.86692810058594,  y=tensor([0.]) ~~~~~~~~~~\n",
      "95 tensor([0.])\n",
      "~~~~~~~~loss=107.80951690673828,  y=tensor([0.]) ~~~~~~~~~~\n",
      "96 tensor([0.])\n",
      "~~~~~~~~loss=70.01677703857422,  y=tensor([0.]) ~~~~~~~~~~\n",
      "97 tensor([0.])\n",
      "~~~~~~~~loss=100.13191986083984,  y=tensor([0.]) ~~~~~~~~~~\n",
      "98 tensor([0.])\n",
      "~~~~~~~~loss=82.45263671875,  y=tensor([0.]) ~~~~~~~~~~\n",
      "99 tensor([1.])\n",
      "~~~~~~~~loss=73.6840591430664,  y=tensor([1.]) ~~~~~~~~~~\n",
      "100 tensor([1.])\n",
      "~~~~~~~~loss=118.61996459960938,  y=tensor([1.]) ~~~~~~~~~~\n",
      "101 tensor([1.])\n",
      "~~~~~~~~loss=78.02061462402344,  y=tensor([1.]) ~~~~~~~~~~\n",
      "102 tensor([1.])\n",
      "~~~~~~~~loss=131.78358459472656,  y=tensor([1.]) ~~~~~~~~~~\n",
      "103 tensor([1.])\n",
      "~~~~~~~~loss=152.9802703857422,  y=tensor([1.]) ~~~~~~~~~~\n",
      "104 tensor([1.])\n",
      "~~~~~~~~loss=94.45893859863281,  y=tensor([1.]) ~~~~~~~~~~\n",
      "105 tensor([1.])\n",
      "~~~~~~~~loss=130.8563232421875,  y=tensor([1.]) ~~~~~~~~~~\n",
      "106 tensor([1.])\n",
      "~~~~~~~~loss=121.34825134277344,  y=tensor([1.]) ~~~~~~~~~~\n",
      "107 tensor([0.])\n",
      "~~~~~~~~loss=71.08735656738281,  y=tensor([0.]) ~~~~~~~~~~\n",
      "108 tensor([0.])\n",
      "~~~~~~~~loss=118.09329986572266,  y=tensor([0.]) ~~~~~~~~~~\n",
      "109 tensor([0.])\n",
      "~~~~~~~~loss=123.47262573242188,  y=tensor([0.]) ~~~~~~~~~~\n",
      "110 tensor([0.])\n"
     ]
    },
    {
     "name": "stdout",
     "output_type": "stream",
     "text": [
      "~~~~~~~~loss=112.64708709716797,  y=tensor([0.]) ~~~~~~~~~~\n",
      "111 tensor([0.])\n",
      "~~~~~~~~loss=153.2144775390625,  y=tensor([0.]) ~~~~~~~~~~\n",
      "112 tensor([0.])\n",
      "~~~~~~~~loss=115.98786926269531,  y=tensor([0.]) ~~~~~~~~~~\n",
      "113 tensor([0.])\n",
      "~~~~~~~~loss=70.86397552490234,  y=tensor([0.]) ~~~~~~~~~~\n",
      "114 tensor([0.])\n",
      "~~~~~~~~loss=136.98802185058594,  y=tensor([0.]) ~~~~~~~~~~\n",
      "115 tensor([0.])\n",
      "~~~~~~~~loss=77.97296905517578,  y=tensor([0.]) ~~~~~~~~~~\n",
      "116 tensor([0.])\n",
      "~~~~~~~~loss=97.7967529296875,  y=tensor([0.]) ~~~~~~~~~~\n",
      "117 tensor([0.])\n",
      "~~~~~~~~loss=151.10728454589844,  y=tensor([0.]) ~~~~~~~~~~\n",
      "118 tensor([0.])\n",
      "~~~~~~~~loss=77.9587631225586,  y=tensor([0.]) ~~~~~~~~~~\n",
      "119 tensor([0.])\n",
      "~~~~~~~~loss=119.6906967163086,  y=tensor([0.]) ~~~~~~~~~~\n",
      "120 tensor([0.])\n",
      "~~~~~~~~loss=99.789306640625,  y=tensor([0.]) ~~~~~~~~~~\n"
     ]
    }
   ],
   "source": [
    "loss_list = []\n",
    "#y_list = []\n",
    "for i, (x,y) in enumerate(test_dataloader):\n",
    "    print(i, y)\n",
    "    \n",
    "    z = Variable(init.normal(torch.zeros(opt_test.batch_size,\n",
    "                                     test_dataset.window_length, \n",
    "                                     test_dataset.n_feature),mean=0,std=0.1),requires_grad=True)\n",
    "    #z = x\n",
    "    z_optimizer = torch.optim.Adam([z],lr=1e-2)\n",
    "    \n",
    "    loss = None\n",
    "    for j in range(50): # set your interation range\n",
    "        gen_fake,_ = generator(z)\n",
    "        loss = Anomaly_score(Variable(x), gen_fake)\n",
    "        loss.backward()\n",
    "        z_optimizer.step()\n",
    "\n",
    "    loss_list.append(loss) # Store the loss from the final iteration\n",
    "    #y_list.append(y) # Store the corresponding anomaly label\n",
    "    print('~~~~~~~~loss={},  y={} ~~~~~~~~~~'.format(loss, y))\n",
    "    #break"
   ]
  },
  {
   "cell_type": "markdown",
   "metadata": {},
   "source": [
    "### Visualise Anomaly Detection"
   ]
  },
  {
   "cell_type": "code",
   "execution_count": 27,
   "metadata": {},
   "outputs": [
    {
     "data": {
      "image/png": "[encoded data removed]",
      "text/plain": [
       "<Figure size 432x288 with 1 Axes>"
      ]
     },
     "metadata": {
      "needs_background": "light"
     },
     "output_type": "display_data"
    }
   ],
   "source": [
    "import pandas as pd\n",
    "import matplotlib.pyplot as plt\n",
    "\n",
    "THRESHOLD = 12.2 # Anomaly score threshold for an instance to be considered as anomaly \n",
    "\n",
    "#TIME_STEPS = dataset.window_length\n",
    "test_score_df = pd.DataFrame(index=range(test_dataset.data_len))\n",
    "test_score_df['loss'] = [loss.item()/test_dataset.window_length for loss in loss_list]\n",
    "test_score_df['y'] = test_dataset.y\n",
    "test_score_df['threshold'] = THRESHOLD\n",
    "test_score_df['anomaly'] = test_score_df.loss > test_score_df.threshold\n",
    "test_score_df['t'] = [x[59].item() for x in test_dataset.x]\n",
    "\n",
    "plt.plot(test_score_df.index, test_score_df.loss, label='loss')\n",
    "plt.plot(test_score_df.index, test_score_df.threshold, label='threshold')\n",
    "plt.plot(test_score_df.index, test_score_df.y, label='y')\n",
    "plt.xticks(rotation=25)\n",
    "plt.legend();"
   ]
  },
  {
   "cell_type": "code",
   "execution_count": 28,
   "metadata": {
    "scrolled": false
   },
   "outputs": [
    {
     "name": "stderr",
     "output_type": "stream",
     "text": [
      "C:\\Users\\User\\anaconda3\\lib\\site-packages\\seaborn\\_decorators.py:36: FutureWarning: Pass the following variables as keyword args: x, y. From version 0.12, the only valid positional argument will be `data`, and passing other arguments without an explicit keyword will result in an error or misinterpretation.\n",
      "  warnings.warn(\n"
     ]
    },
    {
     "data": {
      "image/png": "[encoded data removed]",
      "text/plain": [
       "<Figure size 432x288 with 1 Axes>"
      ]
     },
     "metadata": {
      "needs_background": "light"
     },
     "output_type": "display_data"
    }
   ],
   "source": [
    "import seaborn as sns\n",
    "\n",
    "anomalies = test_score_df[test_score_df.anomaly == True]\n",
    "\n",
    "plt.plot(\n",
    "  range(test_dataset.data_len), \n",
    "  test_score_df['t'], \n",
    "  label='value'\n",
    ");\n",
    "\n",
    "sns.scatterplot(\n",
    "  anomalies.index,\n",
    "  anomalies.t,\n",
    "  color=sns.color_palette()[3],\n",
    "  s=52,\n",
    "  label='anomaly'\n",
    ")\n",
    "\n",
    "plt.plot(\n",
    "  range(len(test_score_df['y'])),\n",
    "  test_score_df['y'],\n",
    "  label='y'\n",
    ")\n",
    "\n",
    "plt.xticks(rotation=25)\n",
    "plt.legend();"
   ]
  },
  {
   "cell_type": "markdown",
   "metadata": {},
   "source": [
    "### Calculate the window-based anomalies"
   ]
  },
  {
   "cell_type": "code",
   "execution_count": 34,
   "metadata": {},
   "outputs": [],
   "source": [
    "import numpy as np\n",
    "start_end = []\n",
    "state = 0\n",
    "for idx in test_score_df.index:\n",
    "    if state==0 and test_score_df.loc[idx, 'y']==1:\n",
    "        state=1\n",
    "        start = idx\n",
    "    if state==1 and test_score_df.loc[idx, 'y']==0:\n",
    "        state = 0\n",
    "        end = idx\n",
    "        start_end.append((start, end))\n",
    "\n",
    "for s_e in start_end:\n",
    "    if sum(test_score_df[s_e[0]:s_e[1]+1]['anomaly'])>0:\n",
    "        for i in range(s_e[0], s_e[1]+1):\n",
    "            test_score_df.loc[i, 'anomaly'] = 1\n",
    "            \n",
    "actual = np.array(test_score_df['y'])\n",
    "predicted = np.array([int(a) for a in test_score_df['anomaly']])"
   ]
  },
  {
   "cell_type": "markdown",
   "metadata": {},
   "source": [
    "### Calculate measurement scores"
   ]
  },
  {
   "cell_type": "code",
   "execution_count": 30,
   "metadata": {},
   "outputs": [
    {
     "name": "stdout",
     "output_type": "stream",
     "text": [
      "True Positive\t 7\n",
      "True Negative\t 105\n",
      "False Positive\t 1\n",
      "False Negative\t 8\n",
      "Accuracy\t 0.9256198347107438\n",
      "Precision\t 0.875\n",
      "Recall\t 0.4666666666666667\n",
      "f-measure\t 0.608695652173913\n",
      "cohen_kappa_score\t 0.5717656311443178\n",
      "auc\t 0.728616352201258\n",
      "roc_auc\t 0.728616352201258\n"
     ]
    }
   ],
   "source": [
    "import numpy as np\n",
    "from sklearn.metrics import cohen_kappa_score\n",
    "from sklearn.metrics import roc_curve, auc, roc_auc_score\n",
    "\n",
    "predicted = np.array(predicted)\n",
    "actual = np.array(actual)\n",
    "\n",
    "tp = np.count_nonzero(predicted * actual)\n",
    "tn = np.count_nonzero((predicted - 1) * (actual - 1))\n",
    "fp = np.count_nonzero(predicted * (actual - 1))\n",
    "fn = np.count_nonzero((predicted - 1) * actual)\n",
    "\n",
    "print('True Positive\\t', tp)\n",
    "print('True Negative\\t', tn)\n",
    "print('False Positive\\t', fp)\n",
    "print('False Negative\\t', fn)\n",
    "\n",
    "accuracy = (tp + tn) / (tp + fp + fn + tn)\n",
    "precision = tp / (tp + fp)\n",
    "recall = tp / (tp + fn)\n",
    "fmeasure = (2 * precision * recall) / (precision + recall)\n",
    "cohen_kappa_score = cohen_kappa_score(predicted, actual)\n",
    "false_positive_rate, true_positive_rate, thresholds = roc_curve(actual, predicted)\n",
    "auc_val = auc(false_positive_rate, true_positive_rate)\n",
    "roc_auc_val = roc_auc_score(actual, predicted)\n",
    "\n",
    "print('Accuracy\\t', accuracy)\n",
    "print('Precision\\t', precision)\n",
    "print('Recall\\t', recall)\n",
    "print('f-measure\\t', fmeasure)\n",
    "print('cohen_kappa_score\\t', cohen_kappa_score)\n",
    "print('auc\\t', auc_val)\n",
    "print('roc_auc\\t', roc_auc_val)"
   ]
  },
  {
   "cell_type": "code",
   "execution_count": 23,
   "metadata": {},
   "outputs": [],
   "source": [
    "# import winsound\n",
    "# frequency = 200  # Set Frequency To 2500 Hertz\n",
    "# duration = 2000  # Set Duration To 1000 ms == 1 second\n",
    "# winsound.Beep(frequency, duration)"
   ]
  }
 ],
 "metadata": {
  "kernelspec": {
   "display_name": "Python 3",
   "language": "python",
   "name": "python3"
  },
  "language_info": {
   "codemirror_mode": {
    "name": "ipython",
    "version": 3
   },
   "file_extension": ".py",
   "mimetype": "text/x-python",
   "name": "python",
   "nbconvert_exporter": "python",
   "pygments_lexer": "ipython3",
   "version": "3.7.7"
  }
 },
 "nbformat": 4,
 "nbformat_minor": 4
}
