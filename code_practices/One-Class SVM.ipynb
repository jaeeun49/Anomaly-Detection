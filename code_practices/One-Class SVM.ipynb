{
 "cells": [
  {
   "cell_type": "markdown",
   "metadata": {},
   "source": [
    "# One-Class SVM\n",
    "\n",
    "- 주어진 데이터를 잘 설명할 수 있는 최적의 support vector를 구하고 이 영역 밖의 데이터들은 outlier로 간주하는 방식으로 이상치 탐지, 이미지 검색, 문서/ 텍스트 분류 등에 사용\n",
    "- 알고리즘이 주어진 표본에 대해 올바른 경계를 설정할 수 있도록 알려진 \"정상\" 데이터 세트를 사용하여 모델을 만드는 것이 좋다. \n",
    "- 모델에 대한 매개변수(예: nu, gamma, kernel)는 결과에 상당히 영향을 미침. 그러므로 상황에 맞는 최적의 설정을 찾을 때까지 이러한 옵션을 실험해야 함."
   ]
  },
  {
   "cell_type": "markdown",
   "metadata": {},
   "source": [
    "<br>\n",
    "\n",
    "# Load data "
   ]
  },
  {
   "cell_type": "code",
   "execution_count": 1,
   "metadata": {},
   "outputs": [],
   "source": [
    "import pandas as pd \n",
    "import numpy as np\n",
    "from sklearn.metrics import classification_report,confusion_matrix, roc_auc_score\n",
    "from sklearn import svm\n",
    "from sklearn.model_selection import train_test_split\n",
    "from collections import Counter\n",
    "import warnings\n",
    "warnings.filterwarnings(\"ignore\")\n",
    "\n",
    "df = pd.read_csv('../data/creditcard.csv')\n",
    "\n",
    "# 정상거래를 1, 사기거래를 -1로 변환\n",
    "df.loc[df['Class'] == 1, \"Class\"] = -1\n",
    "df.loc[df['Class'] == 0, \"Class\"] = 1"
   ]
  },
  {
   "cell_type": "markdown",
   "metadata": {},
   "source": [
    "<br>\n",
    "\n",
    "# Split data"
   ]
  },
  {
   "cell_type": "code",
   "execution_count": 2,
   "metadata": {},
   "outputs": [],
   "source": [
    "X_nFraud = df.query(\"Class==1\").drop([\"Amount\",\"Class\",\"Time\"],1)\n",
    "y_nFraud = df.query(\"Class==1\")[\"Class\"]\n",
    "\n",
    "X_Fraud = df.query(\"Class==-1\").drop([\"Amount\",\"Class\",\"Time\"],1)\n",
    "y_Fraud = df.query(\"Class==-1\")[\"Class\"]\n",
    "\n",
    "#split data into training and cv set\n",
    "X_train, X_test, y_train, y_test = train_test_split(X_nFraud, y_nFraud, test_size=0.2, random_state=42)\n",
    "\n",
    "X_test = X_test.append(X_Fraud)\n",
    "y_test = y_test.append(y_Fraud)"
   ]
  },
  {
   "cell_type": "code",
   "execution_count": 12,
   "metadata": {},
   "outputs": [
    {
     "data": {
      "image/png": "[encoded data removed]",
      "text/plain": [
       "<IPython.core.display.Image object>"
      ]
     },
     "execution_count": 12,
     "metadata": {},
     "output_type": "execute_result"
    }
   ],
   "source": [
    "from IPython.display import Image\n",
    "Image(\"ocsvm.png\")"
   ]
  },
  {
   "cell_type": "code",
   "execution_count": 3,
   "metadata": {},
   "outputs": [
    {
     "data": {
      "text/plain": [
       "Counter({1: 227452})"
      ]
     },
     "execution_count": 3,
     "metadata": {},
     "output_type": "execute_result"
    }
   ],
   "source": [
    "a = y_train.values.tolist()\n",
    "Counter(a)"
   ]
  },
  {
   "cell_type": "code",
   "execution_count": 4,
   "metadata": {},
   "outputs": [
    {
     "data": {
      "text/plain": [
       "Counter({1: 56863, -1: 492})"
      ]
     },
     "execution_count": 4,
     "metadata": {},
     "output_type": "execute_result"
    }
   ],
   "source": [
    "b = y_test.values.tolist()\n",
    "Counter(b)"
   ]
  },
  {
   "cell_type": "markdown",
   "metadata": {},
   "source": [
    "<br>\n",
    "\n",
    "# One-Class SVM"
   ]
  },
  {
   "cell_type": "code",
   "execution_count": 5,
   "metadata": {},
   "outputs": [
    {
     "data": {
      "text/plain": [
       "OneClassSVM(gamma=0.007, nu=0.0005)"
      ]
     },
     "execution_count": 5,
     "metadata": {},
     "output_type": "execute_result"
    }
   ],
   "source": [
    "model = svm.OneClassSVM(kernel='rbf', nu=0.0005,gamma=0.007)\n",
    "model.fit(X_train)"
   ]
  },
  {
   "cell_type": "code",
   "execution_count": 6,
   "metadata": {},
   "outputs": [],
   "source": [
    "pred_testval = model.predict(X_test)"
   ]
  },
  {
   "cell_type": "code",
   "execution_count": 7,
   "metadata": {},
   "outputs": [
    {
     "data": {
      "text/plain": [
       "Counter({1: 56993, -1: 362})"
      ]
     },
     "execution_count": 7,
     "metadata": {},
     "output_type": "execute_result"
    }
   ],
   "source": [
    "c = pred_testval.tolist()\n",
    "Counter(c)"
   ]
  },
  {
   "cell_type": "code",
   "execution_count": 8,
   "metadata": {},
   "outputs": [
    {
     "name": "stdout",
     "output_type": "stream",
     "text": [
      "              precision    recall  f1-score   support\n",
      "\n",
      "          -1       0.77      0.57      0.66       492\n",
      "           1       1.00      1.00      1.00     56863\n",
      "\n",
      "    accuracy                           0.99     57355\n",
      "   macro avg       0.88      0.78      0.83     57355\n",
      "weighted avg       0.99      0.99      0.99     57355\n",
      "\n"
     ]
    }
   ],
   "source": [
    "print(classification_report(y_test, pred_testval))"
   ]
  },
  {
   "cell_type": "code",
   "execution_count": 9,
   "metadata": {},
   "outputs": [
    {
     "name": "stdout",
     "output_type": "stream",
     "text": [
      "ROC score is 0.7838318142779057\n"
     ]
    }
   ],
   "source": [
    "roc = roc_auc_score(y_test, pred_testval)\n",
    "print(f'ROC score is {roc}')"
   ]
  }
 ],
 "metadata": {
  "kernelspec": {
   "display_name": "Python 3",
   "language": "python",
   "name": "python3"
  },
  "language_info": {
   "codemirror_mode": {
    "name": "ipython",
    "version": 3
   },
   "file_extension": ".py",
   "mimetype": "text/x-python",
   "name": "python",
   "nbconvert_exporter": "python",
   "pygments_lexer": "ipython3",
   "version": "3.7.7"
  }
 },
 "nbformat": 4,
 "nbformat_minor": 4
}
