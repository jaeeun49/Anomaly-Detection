{
 "cells": [
  {
   "attachments": {},
   "cell_type": "markdown",
   "metadata": {},
   "source": [
    "Reference\n",
    "- https://github.com/JoungheeKim 님의 논문구현 코드를 따라 단계별 Pytorch 코드 리뷰와 모델 구성을 파악하였습니다."
   ]
  },
  {
   "cell_type": "code",
   "execution_count": 1,
   "metadata": {},
   "outputs": [],
   "source": [
    "import os\n",
    "import matplotlib.pyplot as plt\n",
    "import numpy as np\n",
    "import torch\n",
    "from torch import nn\n",
    "import easydict\n",
    "from tqdm.notebook import trange, tqdm\n",
    "from torch.utils.data import DataLoader, Dataset\n",
    "from celluloid import Camera\n",
    "import pandas as pd\n",
    "import pickle\n",
    "from typing import List\n",
    "import warnings\n",
    "warnings.filterwarnings('ignore')"
   ]
  },
  {
   "cell_type": "markdown",
   "metadata": {},
   "source": [
    "# 1. Data Load"
   ]
  },
  {
   "cell_type": "code",
   "execution_count": 2,
   "metadata": {},
   "outputs": [
    {
     "data": {
      "text/html": [
       "<div>\n",
       "<style scoped>\n",
       "    .dataframe tbody tr th:only-of-type {\n",
       "        vertical-align: middle;\n",
       "    }\n",
       "\n",
       "    .dataframe tbody tr th {\n",
       "        vertical-align: top;\n",
       "    }\n",
       "\n",
       "    .dataframe thead th {\n",
       "        text-align: right;\n",
       "    }\n",
       "</style>\n",
       "<table border=\"1\" class=\"dataframe\">\n",
       "  <thead>\n",
       "    <tr style=\"text-align: right;\">\n",
       "      <th></th>\n",
       "      <th>timestamp</th>\n",
       "      <th>sensor_00</th>\n",
       "      <th>sensor_01</th>\n",
       "      <th>sensor_02</th>\n",
       "      <th>sensor_03</th>\n",
       "      <th>sensor_04</th>\n",
       "      <th>sensor_05</th>\n",
       "      <th>sensor_06</th>\n",
       "      <th>sensor_07</th>\n",
       "      <th>sensor_08</th>\n",
       "      <th>...</th>\n",
       "      <th>sensor_43</th>\n",
       "      <th>sensor_44</th>\n",
       "      <th>sensor_45</th>\n",
       "      <th>sensor_46</th>\n",
       "      <th>sensor_47</th>\n",
       "      <th>sensor_48</th>\n",
       "      <th>sensor_49</th>\n",
       "      <th>sensor_50</th>\n",
       "      <th>sensor_51</th>\n",
       "      <th>machine_status</th>\n",
       "    </tr>\n",
       "  </thead>\n",
       "  <tbody>\n",
       "    <tr>\n",
       "      <th>0</th>\n",
       "      <td>2018-04-01 00:00:00</td>\n",
       "      <td>2.465394</td>\n",
       "      <td>47.09201</td>\n",
       "      <td>53.2118</td>\n",
       "      <td>46.31076</td>\n",
       "      <td>634.3750</td>\n",
       "      <td>76.45975</td>\n",
       "      <td>13.41146</td>\n",
       "      <td>16.13136</td>\n",
       "      <td>15.56713</td>\n",
       "      <td>...</td>\n",
       "      <td>41.92708</td>\n",
       "      <td>39.641200</td>\n",
       "      <td>65.68287</td>\n",
       "      <td>50.92593</td>\n",
       "      <td>38.194440</td>\n",
       "      <td>157.9861</td>\n",
       "      <td>67.70834</td>\n",
       "      <td>243.0556</td>\n",
       "      <td>201.3889</td>\n",
       "      <td>NORMAL</td>\n",
       "    </tr>\n",
       "    <tr>\n",
       "      <th>1</th>\n",
       "      <td>2018-04-01 00:01:00</td>\n",
       "      <td>2.465394</td>\n",
       "      <td>47.09201</td>\n",
       "      <td>53.2118</td>\n",
       "      <td>46.31076</td>\n",
       "      <td>634.3750</td>\n",
       "      <td>76.45975</td>\n",
       "      <td>13.41146</td>\n",
       "      <td>16.13136</td>\n",
       "      <td>15.56713</td>\n",
       "      <td>...</td>\n",
       "      <td>41.92708</td>\n",
       "      <td>39.641200</td>\n",
       "      <td>65.68287</td>\n",
       "      <td>50.92593</td>\n",
       "      <td>38.194440</td>\n",
       "      <td>157.9861</td>\n",
       "      <td>67.70834</td>\n",
       "      <td>243.0556</td>\n",
       "      <td>201.3889</td>\n",
       "      <td>NORMAL</td>\n",
       "    </tr>\n",
       "    <tr>\n",
       "      <th>2</th>\n",
       "      <td>2018-04-01 00:02:00</td>\n",
       "      <td>2.444734</td>\n",
       "      <td>47.35243</td>\n",
       "      <td>53.2118</td>\n",
       "      <td>46.39757</td>\n",
       "      <td>638.8889</td>\n",
       "      <td>73.54598</td>\n",
       "      <td>13.32465</td>\n",
       "      <td>16.03733</td>\n",
       "      <td>15.61777</td>\n",
       "      <td>...</td>\n",
       "      <td>41.66666</td>\n",
       "      <td>39.351852</td>\n",
       "      <td>65.39352</td>\n",
       "      <td>51.21528</td>\n",
       "      <td>38.194443</td>\n",
       "      <td>155.9606</td>\n",
       "      <td>67.12963</td>\n",
       "      <td>241.3194</td>\n",
       "      <td>203.7037</td>\n",
       "      <td>NORMAL</td>\n",
       "    </tr>\n",
       "  </tbody>\n",
       "</table>\n",
       "<p>3 rows × 54 columns</p>\n",
       "</div>"
      ],
      "text/plain": [
       "             timestamp  sensor_00  sensor_01  sensor_02  sensor_03  sensor_04  \\\n",
       "0  2018-04-01 00:00:00   2.465394   47.09201    53.2118   46.31076   634.3750   \n",
       "1  2018-04-01 00:01:00   2.465394   47.09201    53.2118   46.31076   634.3750   \n",
       "2  2018-04-01 00:02:00   2.444734   47.35243    53.2118   46.39757   638.8889   \n",
       "\n",
       "   sensor_05  sensor_06  sensor_07  sensor_08  ...  sensor_43  sensor_44  \\\n",
       "0   76.45975   13.41146   16.13136   15.56713  ...   41.92708  39.641200   \n",
       "1   76.45975   13.41146   16.13136   15.56713  ...   41.92708  39.641200   \n",
       "2   73.54598   13.32465   16.03733   15.61777  ...   41.66666  39.351852   \n",
       "\n",
       "   sensor_45  sensor_46  sensor_47  sensor_48  sensor_49  sensor_50  \\\n",
       "0   65.68287   50.92593  38.194440   157.9861   67.70834   243.0556   \n",
       "1   65.68287   50.92593  38.194440   157.9861   67.70834   243.0556   \n",
       "2   65.39352   51.21528  38.194443   155.9606   67.12963   241.3194   \n",
       "\n",
       "   sensor_51  machine_status  \n",
       "0   201.3889          NORMAL  \n",
       "1   201.3889          NORMAL  \n",
       "2   203.7037          NORMAL  \n",
       "\n",
       "[3 rows x 54 columns]"
      ]
     },
     "execution_count": 2,
     "metadata": {},
     "output_type": "execute_result"
    }
   ],
   "source": [
    "## 데이터 불러오기\n",
    "df = pd.read_csv('sensor.csv', index_col=0)\n",
    "## 데이터 확인\n",
    "df.head(3)"
   ]
  },
  {
   "cell_type": "markdown",
   "metadata": {},
   "source": [
    "- 펌프에 부착된 52개의 센서로부터 계측된 값들을 2018년 4월 ~ 2018년 8월 까지 분 단위로 수집한 데이터\n",
    "- 수집 기간내에 총 7번의 시스템 오류가 존재\n",
    "- machine_status열로 시스템의 오류상태를 알 수 있음"
   ]
  },
  {
   "cell_type": "markdown",
   "metadata": {},
   "source": [
    "# 2. PreProcess"
   ]
  },
  {
   "cell_type": "markdown",
   "metadata": {},
   "source": [
    "각 컬럼의 데이터 타입이 object이므로 “timestamp” 컬럼은 datetime으로 “sensor” 컬럼은 숫자로 데이터 타입을 변경"
   ]
  },
  {
   "cell_type": "code",
   "execution_count": 3,
   "metadata": {},
   "outputs": [],
   "source": [
    "## 데이터 Type 변경\n",
    "df['date'] = pd.to_datetime(df['timestamp'])\n",
    "for var_index in [item for item in df.columns if 'sensor_' in item]:\n",
    "    df[var_index] = pd.to_numeric(df[var_index], errors='coerce')\n",
    "del df['timestamp']\n",
    "\n",
    "## date를 index로 변환\n",
    "df = df.set_index('date')"
   ]
  },
  {
   "cell_type": "code",
   "execution_count": 4,
   "metadata": {},
   "outputs": [
    {
     "data": {
      "text/plain": [
       "<matplotlib.axes._subplots.AxesSubplot at 0x2a6a8d9db88>"
      ]
     },
     "execution_count": 4,
     "metadata": {},
     "output_type": "execute_result"
    },
    {
     "data": {
      "image/png": "[encoded data removed]",
      "text/plain": [
       "<Figure size 1296x576 with 1 Axes>"
      ]
     },
     "metadata": {
      "needs_background": "light"
     },
     "output_type": "display_data"
    }
   ],
   "source": [
    "## 결측 변수 확인\n",
    "(df.isnull().sum()/len(df)).plot.bar(figsize=(18, 8), colormap='Paired')"
   ]
  },
  {
   "cell_type": "markdown",
   "metadata": {},
   "source": [
    "- 센서 15는 모든 구간이 결측 데이터\n",
    "- 센서 50은 결측 비율이 40% 이상\n",
    "- 결측비율이 높은 데이터는 정확한 보간이 어려우며 모델의 성능을 하락시키므로 제거\n",
    "- 나머지 10% 미만의 결측 비율을 갖고 있는 6개의 센서 데이터는 한 시점 이전 데이터를 이용하여 보간"
   ]
  },
  {
   "cell_type": "code",
   "execution_count": 5,
   "metadata": {},
   "outputs": [],
   "source": [
    "## 중복된 데이터를 삭제\n",
    "df = df.drop_duplicates()\n",
    "\n",
    "## 센서 15번, 센서 50 은 삭제\n",
    "del df['sensor_15']\n",
    "del df['sensor_50']\n",
    "\n",
    "## 이전 시점의 데이터로 보간\n",
    "df = df.fillna(method='ffill')"
   ]
  },
  {
   "cell_type": "code",
   "execution_count": 6,
   "metadata": {},
   "outputs": [
    {
     "data": {
      "text/plain": [
       "51"
      ]
     },
     "execution_count": 6,
     "metadata": {},
     "output_type": "execute_result"
    }
   ],
   "source": [
    "len(df.columns)"
   ]
  },
  {
   "cell_type": "markdown",
   "metadata": {},
   "source": [
    "# 3. Data Split & Normalization"
   ]
  },
  {
   "cell_type": "code",
   "execution_count": 7,
   "metadata": {},
   "outputs": [],
   "source": [
    "normal_df = df[df['machine_status']=='NORMAL']\n",
    "abnormal_df = df[df['machine_status']!='NORMAL']"
   ]
  },
  {
   "cell_type": "code",
   "execution_count": 8,
   "metadata": {},
   "outputs": [],
   "source": [
    "## 시계열 데이터이고, 입력의 형태가 특정 길이(window size)의 sequence 데이터 이므로 shuffle은 사용하지 않습니다.\n",
    "## Normal 데이터는 학습데이터, 파라미터 설정데이터, 검증용데이터, 실험용데이터의 비율을 7:1:1:1 로 나누어서 사용합니다.\n",
    "\n",
    "interval_n = int(len(normal_df)/10)\n",
    "normal_df1 = df.iloc[0:interval_n*7]\n",
    "normal_df2 = df.iloc[interval_n*7:interval_n*8]\n",
    "normal_df3 = df.iloc[interval_n*8:interval_n*9]\n",
    "normal_df4 = df.iloc[interval_n*9:]\n",
    "\n",
    "## abnormal 데이터는 검증용데이터, 실험용데이터의 비율을 5:5 로 나누어서 사용합니다.\n",
    "interval_ab = int(len(abnormal_df)/2)\n",
    "abnormal_df1 = df.iloc[0:interval_ab]\n",
    "abnormal_df2 = df.iloc[interval_ab:]"
   ]
  },
  {
   "cell_type": "code",
   "execution_count": 9,
   "metadata": {},
   "outputs": [],
   "source": [
    "## 데이터 정규화를 위하여 분산 및 평균 추출\n",
    "mean_df = normal_df1.mean()\n",
    "std_df = normal_df1.std()"
   ]
  },
  {
   "cell_type": "markdown",
   "metadata": {},
   "source": [
    "- 모델은 입력(original data)과 출력(reconstructed data)의 차이인 를 이용하여 학습\n",
    "- 각 센서데이터(변수)의 단위 차이가 크면 모델은 가장 큰 단위를 갖고 있는 특정 변수의 의존도가 높게 학습\n",
    "- 특정 변수의 의존도를 없애고 모델을 robust하게 하기 위하여 데이터 정규화가 필요"
   ]
  },
  {
   "cell_type": "markdown",
   "metadata": {},
   "source": [
    "# 4. Make Dataset"
   ]
  },
  {
   "cell_type": "markdown",
   "metadata": {},
   "source": [
    "- 모델은 연속된 시계열 데이터를 이용해 비정상 점수를 산출해야 합니다. 데이터의 연속여부를 추출하기 위해서 make_data_idx 함수를 만듭니다. "
   ]
  },
  {
   "cell_type": "code",
   "execution_count": 10,
   "metadata": {},
   "outputs": [],
   "source": [
    "## 데이터를 불러올 때 index로 불러오기\n",
    "def make_data_idx(dates, window_size=1):\n",
    "    input_idx = []\n",
    "    for idx in range(window_size-1, len(dates)):\n",
    "        cur_date = dates[idx].to_pydatetime() # datetime.datetime(2018, 4, 1, 0, 0)이런 형식\n",
    "        in_date = dates[idx - (window_size-1)].to_pydatetime()\n",
    "        \n",
    "        _in_period = (cur_date - in_date).days * 24 * 60 + (cur_date - in_date).seconds / 60\n",
    "        \n",
    "        ## 각 index가 1분 간격으로 떨어져 있는지를 확인합니다.\n",
    "        if _in_period == (window_size-1):\n",
    "            input_idx.append(list(range(idx - window_size+1, idx+1)))\n",
    "    return input_idx"
   ]
  },
  {
   "cell_type": "code",
   "execution_count": 12,
   "metadata": {
    "scrolled": true
   },
   "outputs": [
    {
     "name": "stdout",
     "output_type": "stream",
     "text": [
      "217444\n",
      "217444\n"
     ]
    }
   ],
   "source": [
    "print(len(a))\n",
    "print(len(df))"
   ]
  },
  {
   "cell_type": "markdown",
   "metadata": {},
   "source": [
    "https://pytorch.org/tutorials/beginner/basics/data_tutorial.html"
   ]
  },
  {
   "cell_type": "code",
   "execution_count": 13,
   "metadata": {},
   "outputs": [],
   "source": [
    "## pytorch의 Dataset을 상속받아 데이터를 구성\n",
    "class TagDataset(Dataset):\n",
    "    ## __init__ 메서드 안에서 self.속성에 값을 할당하여 속성 생성\n",
    "    def __init__(self, input_size, df, mean_df=None, std_df = None, window_size=1):\n",
    "        \n",
    "        ## 변수 갯수\n",
    "        self.input_size = input_size\n",
    "        \n",
    "        ## 복원할 sequence 길이\n",
    "        self.window_size = window_size\n",
    "        \n",
    "        ## Summary용 데이터 Deep copy\n",
    "        original_df = df.copy()\n",
    "        \n",
    "        ## 정규화\n",
    "        if mean_df is not None and std_df is not None:\n",
    "            sensor_columns = [item for item in df.columns if 'sensor_' in item]\n",
    "            df[sensor_columns] = (df[sensor_columns]-mean_df)/std_df\n",
    "        \n",
    "        ## 연속한 index를 기준으로 학습에 사용합니다.\n",
    "        dates = list(df.index)\n",
    "        self.input_ids = make_data_idx(dates, window_size=window_size)\n",
    "        \n",
    "        ## sensor 데이터만 사용하여 reconstruct에 활용\n",
    "        self.selected_column = [item for item in df.columns if 'sensor_' in item][:input_size]\n",
    "        self.var_data = torch.tensor(df[self.selected_column].values, dtype=torch.float)\n",
    "        \n",
    "        ## Summary 용\n",
    "        self.df = original_df.iloc[np.array(self.input_ids)[:, -1]]\n",
    "        \n",
    "    ## Dataset은 반드시 __len__ 함수를 만들어줘야함(데이터 길이)\n",
    "    ## The __len__ function returns the number of samples in our dataset.\n",
    "    def __len__(self):\n",
    "        return len(self.input_ids)\n",
    "    \n",
    "    ## Dataset은 반드시 __getitem__ 함수를 만들어줘야함\n",
    "    ## torch 모듈은 __getitem__ 을 호출하여 학습할 데이터를 불러옴.\n",
    "    ## The __getitem__ function loads and returns a sample from the dataset at the given index idx\n",
    "    def __getitem__(self, item):\n",
    "        temp_input_ids = self.input_ids[item]\n",
    "        input_values = self.var_data[temp_input_ids]\n",
    "        return input_values"
   ]
  },
  {
   "cell_type": "markdown",
   "metadata": {},
   "source": [
    "### 모델 & 학습파라미터 설정"
   ]
  },
  {
   "cell_type": "code",
   "execution_count": 14,
   "metadata": {},
   "outputs": [],
   "source": [
    "## 하이퍼 파라미터 설정\n",
    "args = easydict.EasyDict({\n",
    "    \"batch_size\": 128, ## 배치 사이즈 설정\n",
    "    \"device\": torch.device('cuda') if torch.cuda.is_available() else torch.device('cpu'), ## GPU 사용 여부 설정\n",
    "    \"input_size\": 40, ## 입력 차원 설정 (사용할 변수의 개수)\n",
    "    \"latent_size\": 10, ## Hidden 차원 설정\n",
    "    \"output_size\": 40, ## 출력 차원 설정\n",
    "    \"window_size\" : 3, ## sequence Lenght\n",
    "    \"num_layers\": 2,     ## LSTM layer 갯수 설정\n",
    "    \"learning_rate\" : 0.001, ## learning rate 설정\n",
    "    \"max_iter\" : 100000, ## 총 반복 횟수 설정\n",
    "    'early_stop' : True,  ## valid loss가 작아지지 않으면 early stop 조건 설정\n",
    "})"
   ]
  },
  {
   "cell_type": "code",
   "execution_count": 17,
   "metadata": {},
   "outputs": [],
   "source": [
    "## 데이터셋으로 변환\n",
    "normal_dataset1 = TagDataset(df=normal_df1, input_size=args.input_size, window_size=args.window_size, mean_df=mean_df, std_df=std_df)\n",
    "normal_dataset2 = TagDataset(df=normal_df2, input_size=args.input_size, window_size=args.window_size, mean_df=mean_df, std_df=std_df)\n",
    "normal_dataset3 = TagDataset(df=normal_df3, input_size=args.input_size, window_size=args.window_size, mean_df=mean_df, std_df=std_df)\n",
    "normal_dataset4 = TagDataset(df=normal_df4, input_size=args.input_size, window_size=args.window_size, mean_df=mean_df, std_df=std_df)\n",
    "abnormal_dataset1 = TagDataset(df=abnormal_df1, input_size=args.input_size, window_size=args.window_size, mean_df=mean_df, std_df=std_df)\n",
    "abnormal_dataset2 = TagDataset(df=abnormal_df2, input_size=args.input_size, window_size=args.window_size, mean_df=mean_df, std_df=std_df)"
   ]
  },
  {
   "cell_type": "code",
   "execution_count": 18,
   "metadata": {},
   "outputs": [
    {
     "name": "stdout",
     "output_type": "stream",
     "text": [
      "142212\n",
      "139039\n"
     ]
    }
   ],
   "source": [
    "print(len(normal_df1))\n",
    "print(normal_dataset1.__len__())"
   ]
  },
  {
   "cell_type": "code",
   "execution_count": 18,
   "metadata": {},
   "outputs": [
    {
     "data": {
      "text/plain": [
       "40"
      ]
     },
     "execution_count": 18,
     "metadata": {},
     "output_type": "execute_result"
    }
   ],
   "source": [
    "# input_size를 40으로 입력받아 40길이의 sensor selected_column을 구성.\n",
    "len(normal_dataset1.selected_column)"
   ]
  },
  {
   "cell_type": "code",
   "execution_count": 19,
   "metadata": {},
   "outputs": [
    {
     "data": {
      "text/plain": [
       "tensor([[ -6.9237, -17.0422, -14.1269, -21.9571,  -3.3343,  -3.7683,  -4.8385,\n",
       "          -4.9957,  -5.1882,  -5.0451,  -2.9945,  -2.8852,  -2.6036,  -0.9166,\n",
       "          -2.6529,  -2.6258,  -2.5788,  -4.5327,  -2.3386,  -2.8390,  -2.8014,\n",
       "          -2.3643,  -2.5578,  -2.4139,  -2.3218,  -2.5986,  -2.8804,  -2.3804,\n",
       "          -2.1543,  -2.5227,  -2.4582,  -2.5787,  -2.5842,  -2.4279,  -2.5681,\n",
       "          -1.6148,  -2.9698,  -4.5814,  -2.2589,  -3.1680],\n",
       "        [ -6.8767, -17.0480, -14.1274, -21.9571,  -3.3343,  -3.7680,  -4.8387,\n",
       "          -4.9918,  -5.1864,  -5.0435,  -2.9943,  -2.8850,  -2.6039,  -0.9179,\n",
       "          -2.6529,  -2.6258,  -2.5788,  -4.5206,  -2.3386,  -2.8390,  -2.8014,\n",
       "          -2.3643,  -2.5578,  -2.4139,  -2.3218,  -2.5986,  -2.8804,  -2.3804,\n",
       "          -2.1543,  -2.5227,  -2.4582,  -2.5787,  -2.5842,  -2.4279,  -2.5681,\n",
       "          -1.6148,  -2.9695,  -4.5811,  -2.2589,  -3.1677],\n",
       "        [ -6.9208, -17.0470, -14.1269, -21.9571,  -3.3343,  -3.7680,  -4.8377,\n",
       "          -4.9925,  -5.1864,  -5.0435,  -2.9939,  -2.8849,  -2.6037,  -0.9169,\n",
       "          -2.6529,  -2.6258,  -2.5788,  -4.3982,  -2.3386,  -2.8390,  -2.8014,\n",
       "          -2.3643,  -2.5578,  -2.4139,  -2.3218,  -2.5986,  -2.8804,  -2.3804,\n",
       "          -2.1543,  -2.5227,  -2.4582,  -2.5787,  -2.5842,  -2.4279,  -2.5681,\n",
       "          -1.6148,  -2.9694,  -4.5806,  -2.2589,  -3.1672]])"
      ]
     },
     "execution_count": 19,
     "metadata": {},
     "output_type": "execute_result"
    }
   ],
   "source": [
    "normal_dataset1.__getitem__(0)"
   ]
  },
  {
   "cell_type": "code",
   "execution_count": 20,
   "metadata": {},
   "outputs": [
    {
     "data": {
      "text/plain": [
       "tensor([[ -6.8767, -17.0480, -14.1274, -21.9571,  -3.3343,  -3.7680,  -4.8387,\n",
       "          -4.9918,  -5.1864,  -5.0435,  -2.9943,  -2.8850,  -2.6039,  -0.9179,\n",
       "          -2.6529,  -2.6258,  -2.5788,  -4.5206,  -2.3386,  -2.8390,  -2.8014,\n",
       "          -2.3643,  -2.5578,  -2.4139,  -2.3218,  -2.5986,  -2.8804,  -2.3804,\n",
       "          -2.1543,  -2.5227,  -2.4582,  -2.5787,  -2.5842,  -2.4279,  -2.5681,\n",
       "          -1.6148,  -2.9695,  -4.5811,  -2.2589,  -3.1677],\n",
       "        [ -6.9208, -17.0470, -14.1269, -21.9571,  -3.3343,  -3.7680,  -4.8377,\n",
       "          -4.9925,  -5.1864,  -5.0435,  -2.9939,  -2.8849,  -2.6037,  -0.9169,\n",
       "          -2.6529,  -2.6258,  -2.5788,  -4.3982,  -2.3386,  -2.8390,  -2.8014,\n",
       "          -2.3643,  -2.5578,  -2.4139,  -2.3218,  -2.5986,  -2.8804,  -2.3804,\n",
       "          -2.1543,  -2.5227,  -2.4582,  -2.5787,  -2.5842,  -2.4279,  -2.5681,\n",
       "          -1.6148,  -2.9694,  -4.5806,  -2.2589,  -3.1672],\n",
       "        [ -6.8973, -17.0480, -14.1274, -21.9571,  -3.3343,  -3.7678,  -4.8362,\n",
       "          -4.9933,  -5.1820,  -5.0417,  -2.9940,  -2.8848,  -2.6035,  -0.9170,\n",
       "          -2.6529,  -2.6258,  -2.5788,  -4.5226,  -2.3386,  -2.8390,  -2.8014,\n",
       "          -2.3643,  -2.5578,  -2.4139,  -2.3218,  -2.5986,  -2.8804,  -2.3804,\n",
       "          -2.1543,  -2.5227,  -2.4582,  -2.5787,  -2.5842,  -2.4279,  -2.5681,\n",
       "          -1.6148,  -2.9699,  -4.5806,  -2.2588,  -3.1668]])"
      ]
     },
     "execution_count": 20,
     "metadata": {},
     "output_type": "execute_result"
    }
   ],
   "source": [
    "normal_dataset1.__getitem__(1)\n",
    "\n",
    "# window의 개념으로 __getitem__(1)의 첫번째 값은 __getitem__(0)의 두번째가 됨을 볼 수 있다. "
   ]
  },
  {
   "cell_type": "markdown",
   "metadata": {},
   "source": [
    "https://pytorch.org/docs/stable/data.html"
   ]
  },
  {
   "cell_type": "code",
   "execution_count": 21,
   "metadata": {},
   "outputs": [],
   "source": [
    "## Data Loader 형태로 변환\n",
    "## Dataloader class는 batch기반의 딥러닝모델 학습을 위해서 mini batch를 만들어주는 역할\n",
    "## 앞서 만들었던 dataset을 input으로 넣어주면 여러 옵션(데이터 묶기, 섞기, 알아서 병렬처리)을 통해 batch를 만들어준다\n",
    "train_loader = torch.utils.data.DataLoader(\n",
    "                 dataset=normal_dataset1,\n",
    "                 batch_size=args.batch_size,\n",
    "                 shuffle=True)\n",
    "valid_loader = torch.utils.data.DataLoader(\n",
    "                dataset=normal_dataset2,\n",
    "                batch_size=args.batch_size,\n",
    "                shuffle=False)"
   ]
  },
  {
   "cell_type": "markdown",
   "metadata": {},
   "source": [
    "# 5. Model Configuration"
   ]
  },
  {
   "cell_type": "code",
   "execution_count": 22,
   "metadata": {},
   "outputs": [],
   "source": [
    "## 인코더\n",
    "class Encoder(nn.Module):\n",
    "\n",
    "    def __init__(self, input_size=4096, hidden_size=1024, num_layers=2):\n",
    "        super(Encoder, self).__init__()\n",
    "        self.hidden_size = hidden_size\n",
    "        self.num_layers = num_layers\n",
    "        self.lstm = nn.LSTM(input_size, hidden_size, num_layers, batch_first=True,\n",
    "                            dropout=0.1, bidirectional=False)\n",
    "\n",
    "    def forward(self, x):\n",
    "        outputs, (hidden, cell) = self.lstm(x)  # out: tensor of shape (batch_size, seq_length, hidden_size)\n",
    "        ## lstm층의 세 반환값 중 첫번재 것은 그 층의 출력이다. \n",
    "        ## 인코더는 이 층의 출력과 함께 마지막 시간 단계의 은닉 상태들(state_h)과 기억 상태(state_c)도 돌려준다\n",
    "        ## representation vector는 층의 출력을 제외한 state_h와 state_c로 구성된다. \n",
    "\n",
    "        return (hidden, cell)\n",
    "    \n",
    "## 디코더\n",
    "class Decoder(nn.Module):\n",
    "\n",
    "    def __init__(self, input_size=4096, hidden_size=1024, output_size=4096, num_layers=2):\n",
    "        super(Decoder, self).__init__()\n",
    "        ## Decoder의 초기 hidden vector로 Encoder의 feature vector를 사용\n",
    "        self.hidden_size = hidden_size\n",
    "        self.output_size = output_size\n",
    "        self.num_layers = num_layers\n",
    "\n",
    "        self.lstm = nn.LSTM(input_size, hidden_size, num_layers, batch_first=True,\n",
    "                            dropout=0.1, bidirectional=False)\n",
    "\n",
    "        self.relu = nn.ReLU()\n",
    "        self.fc = nn.Linear(hidden_size, output_size)\n",
    "        \n",
    "    def forward(self, x, hidden):\n",
    "        output, (hidden, cell) = self.lstm(x, hidden)  # out: tensor of shape (batch_size, seq_length, hidden_size)\n",
    "        prediction = self.fc(output)\n",
    "\n",
    "        return prediction, (hidden, cell)\n",
    "    \n",
    "## LSTM Auto Encoder\n",
    "class LSTMAutoEncoder(nn.Module):\n",
    "\n",
    "    def __init__(self,\n",
    "                 input_dim: int,\n",
    "                 latent_dim: int,\n",
    "                 window_size: int=1,\n",
    "                 **kwargs) -> None:\n",
    "        \"\"\"\n",
    "        :param input_dim: 변수 Tag 갯수\n",
    "        :param latent_dim: 최종 압축할 차원 크기\n",
    "        :param window_size: 길이\n",
    "        :param kwargs:\n",
    "        \"\"\"\n",
    "\n",
    "        super(LSTMAutoEncoder, self).__init__()\n",
    "\n",
    "        self.latent_dim = latent_dim\n",
    "        self.input_dim = input_dim\n",
    "        self.window_size = window_size\n",
    "\n",
    "        if \"num_layers\" in kwargs:\n",
    "            num_layers = kwargs.pop(\"num_layers\")\n",
    "        else:\n",
    "            num_layers = 1\n",
    "\n",
    "        self.encoder = Encoder(\n",
    "            input_size=input_dim,\n",
    "            hidden_size=latent_dim,\n",
    "            num_layers=num_layers,\n",
    "        )\n",
    "        self.reconstruct_decoder = Decoder(\n",
    "            input_size=input_dim,\n",
    "            output_size=input_dim,            ## autoencoder기 떄문에 input_size와 output_size의 크기는 같다. \n",
    "            hidden_size=latent_dim,\n",
    "            num_layers=num_layers,\n",
    "        )\n",
    "\n",
    "    def forward(self, src:torch.Tensor, **kwargs):\n",
    "        batch_size, sequence_length, var_length = src.size()\n",
    "\n",
    "        ## Encoder 넣기\n",
    "        encoder_hidden = self.encoder(src)\n",
    "        \n",
    "        inv_idx = torch.arange(sequence_length - 1, -1, -1).long()\n",
    "        reconstruct_output = []\n",
    "        temp_input = torch.zeros((batch_size, 1, var_length), dtype=torch.float).to(src.device)\n",
    "        hidden = encoder_hidden\n",
    "        for t in range(sequence_length):\n",
    "            ## reconstruct_decoder 데이터로 인코더의 은닉상태와 0으로 채워진 초기벡터가 입력 데이터로 사용\n",
    "            temp_input, hidden = self.reconstruct_decoder(temp_input, hidden)\n",
    "            reconstruct_output.append(temp_input)\n",
    "        reconstruct_output = torch.cat(reconstruct_output, dim=1)[:, inv_idx, :]\n",
    "        \n",
    "        return [reconstruct_output, src]\n",
    "\n",
    "    def loss_function(self,\n",
    "                      *args,\n",
    "                      **kwargs) -> dict:\n",
    "        \n",
    "        ## 위의 forward함수의 출력이 [reconstruct_output, src]이므로 args[0]이 output, args[1]이 input,원본 데이터를 나타낸다. \n",
    "        ## 이 두 값의 차이를 통해 mse_loss를 계산하고 출력\n",
    "        recons = args[0]\n",
    "        input = args[1]\n",
    "        \n",
    "        ## MSE loss(Mean squared Error)\n",
    "        loss =nn.functional.mse_loss(recons, input)\n",
    "        return loss"
   ]
  },
  {
   "cell_type": "markdown",
   "metadata": {},
   "source": [
    "# 6. Learning Configuration"
   ]
  },
  {
   "cell_type": "code",
   "execution_count": 23,
   "metadata": {},
   "outputs": [],
   "source": [
    "def run(args, model, train_loader, test_loader):\n",
    "    # optimizer 설정\n",
    "    optimizer = torch.optim.Adam(model.parameters(), lr=args.learning_rate)\n",
    "\n",
    "    ## 반복 횟수 Setting\n",
    "    epochs = tqdm(range(args.max_iter//len(train_loader)+1))\n",
    "    \n",
    "    ## 학습하기\n",
    "    count = 0\n",
    "    best_loss = 100000000\n",
    "    for epoch in epochs:\n",
    "        model.train()\n",
    "        optimizer.zero_grad()\n",
    "        train_iterator = tqdm(enumerate(train_loader), total=len(train_loader), desc=\"training\")\n",
    "\n",
    "        for i, batch_data in train_iterator:\n",
    "            \n",
    "            if count > args.max_iter:\n",
    "                return model\n",
    "            count += 1\n",
    "            \n",
    "            batch_data = batch_data.to(args.device)\n",
    "            predict_values = model(batch_data)\n",
    "            loss = model.loss_function(*predict_values)\n",
    "\n",
    "            # Backward and optimize\n",
    "            loss.backward()\n",
    "            optimizer.step()\n",
    "            optimizer.zero_grad()\n",
    "            \n",
    "            train_iterator.set_postfix({\n",
    "                \"train_loss\": float(loss),\n",
    "            })\n",
    "\n",
    "        model.eval()\n",
    "        eval_loss = 0\n",
    "        test_iterator = tqdm(enumerate(test_loader), total=len(test_loader), desc=\"testing\")\n",
    "        with torch.no_grad():\n",
    "            for i, batch_data in test_iterator:\n",
    "                \n",
    "                batch_data = batch_data.to(args.device)\n",
    "                predict_values = model(batch_data)\n",
    "                loss = model.loss_function(*predict_values)\n",
    "\n",
    "                eval_loss += loss.mean().item()\n",
    "\n",
    "                test_iterator.set_postfix({\n",
    "                    \"eval_loss\": float(loss),\n",
    "                })\n",
    "        eval_loss = eval_loss / len(test_loader)\n",
    "        epochs.set_postfix({\n",
    "             \"Evaluation Score\": float(eval_loss),\n",
    "        })\n",
    "        if eval_loss < best_loss:\n",
    "            best_loss = eval_loss\n",
    "        else:\n",
    "            if args.early_stop:\n",
    "                print('early stop condition   best_loss[{}]  eval_loss[{}]'.format(best_loss, eval_loss))\n",
    "                return model\n",
    "        \n",
    "    return model\n",
    "\n",
    "## 테스트셋에 대해서 모든 행마다 predict값과 real값의 loss를 담은 loss_list를 반환하는 함수\n",
    "def get_loss_list(args, model, test_loader):\n",
    "    test_iterator = tqdm(enumerate(test_loader), total=len(test_loader), desc=\"testing\")\n",
    "    loss_list = []\n",
    "    \n",
    "    with torch.no_grad():\n",
    "        for i, batch_data in test_iterator:\n",
    "                \n",
    "            batch_data = batch_data.to(args.device)\n",
    "            predict_values = model(batch_data)\n",
    "            \n",
    "            ## MAE(Mean Absolute Error)로 계산\n",
    "            ## forward함수의 출력이 [reconstruct_output, src]이므로 predict_values[0]이 예측값, [1]이 실제값\n",
    "            loss = nn.functional.l1_loss(predict_values[0], predict_values[1], reduce=False)\n",
    "            #loss = loss.sum(dim=2).sum(dim=1).cpu().numpy()\n",
    "            loss = loss.mean(dim=1).cpu().numpy()\n",
    "            loss_list.append(loss)\n",
    "    loss_list = np.concatenate(loss_list, axis=0)\n",
    "    return loss_list"
   ]
  },
  {
   "cell_type": "markdown",
   "metadata": {},
   "source": [
    "# 8. Learning"
   ]
  },
  {
   "cell_type": "code",
   "execution_count": 24,
   "metadata": {},
   "outputs": [
    {
     "data": {
      "text/plain": [
       "LSTMAutoEncoder(\n",
       "  (encoder): Encoder(\n",
       "    (lstm): LSTM(40, 10, num_layers=2, batch_first=True, dropout=0.1)\n",
       "  )\n",
       "  (reconstruct_decoder): Decoder(\n",
       "    (lstm): LSTM(40, 10, num_layers=2, batch_first=True, dropout=0.1)\n",
       "    (relu): ReLU()\n",
       "    (fc): Linear(in_features=10, out_features=40, bias=True)\n",
       "  )\n",
       ")"
      ]
     },
     "execution_count": 24,
     "metadata": {},
     "output_type": "execute_result"
    }
   ],
   "source": [
    "## 모델 생성\n",
    "model = LSTMAutoEncoder(input_dim=args.input_size, latent_dim=args.latent_size, window_size=args.window_size, num_layers=args.num_layers)\n",
    "model.to(args.device)"
   ]
  },
  {
   "cell_type": "code",
   "execution_count": 25,
   "metadata": {},
   "outputs": [
    {
     "data": {
      "application/vnd.jupyter.widget-view+json": {
       "model_id": "9f7734ca37904b118c0e45bb21d99b7b",
       "version_major": 2,
       "version_minor": 0
      },
      "text/plain": [
       "HBox(children=(FloatProgress(value=0.0, max=92.0), HTML(value='')))"
      ]
     },
     "metadata": {},
     "output_type": "display_data"
    },
    {
     "data": {
      "application/vnd.jupyter.widget-view+json": {
       "model_id": "a15cab9cbe7c4a52a1e059eca66a8bd9",
       "version_major": 2,
       "version_minor": 0
      },
      "text/plain": [
       "HBox(children=(FloatProgress(value=0.0, description='training', max=1087.0, style=ProgressStyle(description_wi…"
      ]
     },
     "metadata": {},
     "output_type": "display_data"
    },
    {
     "name": "stdout",
     "output_type": "stream",
     "text": [
      "\n"
     ]
    },
    {
     "data": {
      "application/vnd.jupyter.widget-view+json": {
       "model_id": "7828fa9e05e3468aac5f6acf83f0d0e3",
       "version_major": 2,
       "version_minor": 0
      },
      "text/plain": [
       "HBox(children=(FloatProgress(value=0.0, description='testing', max=154.0, style=ProgressStyle(description_widt…"
      ]
     },
     "metadata": {},
     "output_type": "display_data"
    },
    {
     "name": "stdout",
     "output_type": "stream",
     "text": [
      "\n"
     ]
    },
    {
     "data": {
      "application/vnd.jupyter.widget-view+json": {
       "model_id": "a8e250a31160419c97c59649777b7f4a",
       "version_major": 2,
       "version_minor": 0
      },
      "text/plain": [
       "HBox(children=(FloatProgress(value=0.0, description='training', max=1087.0, style=ProgressStyle(description_wi…"
      ]
     },
     "metadata": {},
     "output_type": "display_data"
    },
    {
     "name": "stdout",
     "output_type": "stream",
     "text": [
      "\n"
     ]
    },
    {
     "data": {
      "application/vnd.jupyter.widget-view+json": {
       "model_id": "03ffa2d601db40f3926d4c21fc1f28b4",
       "version_major": 2,
       "version_minor": 0
      },
      "text/plain": [
       "HBox(children=(FloatProgress(value=0.0, description='testing', max=154.0, style=ProgressStyle(description_widt…"
      ]
     },
     "metadata": {},
     "output_type": "display_data"
    },
    {
     "name": "stdout",
     "output_type": "stream",
     "text": [
      "\n"
     ]
    },
    {
     "data": {
      "application/vnd.jupyter.widget-view+json": {
       "model_id": "915d72a5fb894fc1a6677b8ed753155a",
       "version_major": 2,
       "version_minor": 0
      },
      "text/plain": [
       "HBox(children=(FloatProgress(value=0.0, description='training', max=1087.0, style=ProgressStyle(description_wi…"
      ]
     },
     "metadata": {},
     "output_type": "display_data"
    },
    {
     "name": "stdout",
     "output_type": "stream",
     "text": [
      "\n"
     ]
    },
    {
     "data": {
      "application/vnd.jupyter.widget-view+json": {
       "model_id": "b6792e9f4adf46b3b9e2b5408085cc42",
       "version_major": 2,
       "version_minor": 0
      },
      "text/plain": [
       "HBox(children=(FloatProgress(value=0.0, description='testing', max=154.0, style=ProgressStyle(description_widt…"
      ]
     },
     "metadata": {},
     "output_type": "display_data"
    },
    {
     "name": "stdout",
     "output_type": "stream",
     "text": [
      "\n"
     ]
    },
    {
     "data": {
      "application/vnd.jupyter.widget-view+json": {
       "model_id": "861655d1a0964555a7c9773e4c01061f",
       "version_major": 2,
       "version_minor": 0
      },
      "text/plain": [
       "HBox(children=(FloatProgress(value=0.0, description='training', max=1087.0, style=ProgressStyle(description_wi…"
      ]
     },
     "metadata": {},
     "output_type": "display_data"
    },
    {
     "name": "stdout",
     "output_type": "stream",
     "text": [
      "\n"
     ]
    },
    {
     "data": {
      "application/vnd.jupyter.widget-view+json": {
       "model_id": "a2b8ccfb460b4cb6a22f5e1cb8e4cfbd",
       "version_major": 2,
       "version_minor": 0
      },
      "text/plain": [
       "HBox(children=(FloatProgress(value=0.0, description='testing', max=154.0, style=ProgressStyle(description_widt…"
      ]
     },
     "metadata": {},
     "output_type": "display_data"
    },
    {
     "name": "stdout",
     "output_type": "stream",
     "text": [
      "\n"
     ]
    },
    {
     "data": {
      "application/vnd.jupyter.widget-view+json": {
       "model_id": "c8e127dbb7f1404f9b96ff21a97d598e",
       "version_major": 2,
       "version_minor": 0
      },
      "text/plain": [
       "HBox(children=(FloatProgress(value=0.0, description='training', max=1087.0, style=ProgressStyle(description_wi…"
      ]
     },
     "metadata": {},
     "output_type": "display_data"
    },
    {
     "name": "stdout",
     "output_type": "stream",
     "text": [
      "\n"
     ]
    },
    {
     "data": {
      "application/vnd.jupyter.widget-view+json": {
       "model_id": "8b197b37b2674956898294c97e8b5ed8",
       "version_major": 2,
       "version_minor": 0
      },
      "text/plain": [
       "HBox(children=(FloatProgress(value=0.0, description='testing', max=154.0, style=ProgressStyle(description_widt…"
      ]
     },
     "metadata": {},
     "output_type": "display_data"
    },
    {
     "name": "stdout",
     "output_type": "stream",
     "text": [
      "\n"
     ]
    },
    {
     "data": {
      "application/vnd.jupyter.widget-view+json": {
       "model_id": "232dba3170274899b72bdb1f2582d531",
       "version_major": 2,
       "version_minor": 0
      },
      "text/plain": [
       "HBox(children=(FloatProgress(value=0.0, description='training', max=1087.0, style=ProgressStyle(description_wi…"
      ]
     },
     "metadata": {},
     "output_type": "display_data"
    },
    {
     "name": "stdout",
     "output_type": "stream",
     "text": [
      "\n"
     ]
    },
    {
     "data": {
      "application/vnd.jupyter.widget-view+json": {
       "model_id": "4be7aefd8d484cbeaab4f2884ec036b4",
       "version_major": 2,
       "version_minor": 0
      },
      "text/plain": [
       "HBox(children=(FloatProgress(value=0.0, description='testing', max=154.0, style=ProgressStyle(description_widt…"
      ]
     },
     "metadata": {},
     "output_type": "display_data"
    },
    {
     "name": "stdout",
     "output_type": "stream",
     "text": [
      "\n",
      "early stop condition   best_loss[0.029791941660661975]  eval_loss[0.0316283493484189]\n",
      "\n"
     ]
    }
   ],
   "source": [
    "## 학습하기\n",
    "model = run(args, model, train_loader, valid_loader)"
   ]
  },
  {
   "cell_type": "markdown",
   "metadata": {},
   "source": [
    "# 9. Anomaly Score"
   ]
  },
  {
   "cell_type": "code",
   "execution_count": 26,
   "metadata": {},
   "outputs": [
    {
     "data": {
      "application/vnd.jupyter.widget-view+json": {
       "model_id": "f96e7dfb99e2471ea589e4a534d78850",
       "version_major": 2,
       "version_minor": 0
      },
      "text/plain": [
       "HBox(children=(FloatProgress(value=0.0, description='testing', max=154.0, style=ProgressStyle(description_widt…"
      ]
     },
     "metadata": {},
     "output_type": "display_data"
    },
    {
     "name": "stdout",
     "output_type": "stream",
     "text": [
      "\n"
     ]
    }
   ],
   "source": [
    "## Reconstruction Error를 구하기\n",
    "## get_loss_list : 테스트셋에 대해서 모든 행마다 predict값과 real값의 loss를 담은 loss_list를 반환\n",
    "loss_list = get_loss_list(args, model, valid_loader)\n",
    "\n",
    "## Reconstruction Error의 평균과 Covarinace 계산\n",
    "mean = np.mean(loss_list, axis=0)\n",
    "std = np.cov(loss_list.T)"
   ]
  },
  {
   "cell_type": "code",
   "execution_count": 27,
   "metadata": {},
   "outputs": [],
   "source": [
    "## Anomaly Score\n",
    "class Anomaly_Calculator:\n",
    "    def __init__(self, mean:np.array, std:np.array):\n",
    "        assert mean.shape[0] == std.shape[0] and mean.shape[0] == std.shape[1], '평균과 분산의 차원이 똑같아야 합니다.'\n",
    "        self.mean = mean\n",
    "        self.std = std\n",
    "    \n",
    "    def __call__(self, recons_error:np.array):\n",
    "        x = (recons_error-self.mean)\n",
    "        return np.matmul(np.matmul(x, self.std), x.T)\n",
    "\n",
    "## 비정상 점수 계산기\n",
    "anomaly_calculator = Anomaly_Calculator(mean, std)"
   ]
  },
  {
   "cell_type": "code",
   "execution_count": 28,
   "metadata": {},
   "outputs": [
    {
     "data": {
      "application/vnd.jupyter.widget-view+json": {
       "model_id": "44541fa9783e41198b6c6f051ce4f101",
       "version_major": 2,
       "version_minor": 0
      },
      "text/plain": [
       "HBox(children=(FloatProgress(value=0.0, max=19620.0), HTML(value='')))"
      ]
     },
     "metadata": {},
     "output_type": "display_data"
    },
    {
     "name": "stdout",
     "output_type": "stream",
     "text": [
      "\n",
      "평균[0.0015155842358799349], 중간[3.775929503299572e-05], 최소[8.427593231209998e-07], 최대[0.6285288757347188]\n"
     ]
    }
   ],
   "source": [
    "## Threshold 찾기\n",
    "anomaly_scores = []\n",
    "for temp_loss in tqdm(loss_list):\n",
    "    temp_score = anomaly_calculator(temp_loss)\n",
    "    anomaly_scores.append(temp_score)\n",
    "\n",
    "## 정상구간에서 비정상 점수 분포\n",
    "print(\"평균[{}], 중간[{}], 최소[{}], 최대[{}]\".format(np.mean(anomaly_scores), np.median(anomaly_scores), np.min(anomaly_scores), np.max(anomaly_scores)))\n"
   ]
  },
  {
   "cell_type": "markdown",
   "metadata": {},
   "source": [
    "# 10. Visualize Result"
   ]
  },
  {
   "cell_type": "code",
   "execution_count": 29,
   "metadata": {},
   "outputs": [
    {
     "data": {
      "application/vnd.jupyter.widget-view+json": {
       "model_id": "a7bd3b7fd8bc4a31b031a0f25ed06813",
       "version_major": 2,
       "version_minor": 0
      },
      "text/plain": [
       "HBox(children=(FloatProgress(value=0.0, description='testing', max=1655.0, style=ProgressStyle(description_wid…"
      ]
     },
     "metadata": {},
     "output_type": "display_data"
    },
    {
     "name": "stdout",
     "output_type": "stream",
     "text": [
      "\n"
     ]
    },
    {
     "data": {
      "application/vnd.jupyter.widget-view+json": {
       "model_id": "2b76c377705d432b9a3a12e6e8f7443d",
       "version_major": 2,
       "version_minor": 0
      },
      "text/plain": [
       "HBox(children=(FloatProgress(value=0.0, max=211715.0), HTML(value='')))"
      ]
     },
     "metadata": {},
     "output_type": "display_data"
    },
    {
     "name": "stdout",
     "output_type": "stream",
     "text": [
      "\n"
     ]
    }
   ],
   "source": [
    "## 전체 데이터 불러오기\n",
    "total_dataset = TagDataset(df=df, input_size=args.input_size, window_size=args.window_size, mean_df=mean_df, std_df=std_df)\n",
    "total_dataloader = torch.utils.data.DataLoader(dataset=total_dataset,batch_size=args.batch_size,shuffle=False)\n",
    "\n",
    "## Reconstruction Loss를 계산하기\n",
    "total_loss = get_loss_list(args, model, total_dataloader)\n",
    "\n",
    "## 이상치 점수 계산하기\n",
    "anomaly_scores = []\n",
    "for temp_loss in tqdm(total_loss):\n",
    "    temp_score = anomaly_calculator(temp_loss)\n",
    "    anomaly_scores.append(temp_score)\n",
    "\n",
    "visualization_df = total_dataset.df\n",
    "visualization_df['score'] = anomaly_scores\n",
    "visualization_df['recons_error'] = total_loss.sum(axis=1)"
   ]
  },
  {
   "cell_type": "code",
   "execution_count": 38,
   "metadata": {},
   "outputs": [
    {
     "data": {
      "text/html": [
       "<div>\n",
       "<style scoped>\n",
       "    .dataframe tbody tr th:only-of-type {\n",
       "        vertical-align: middle;\n",
       "    }\n",
       "\n",
       "    .dataframe tbody tr th {\n",
       "        vertical-align: top;\n",
       "    }\n",
       "\n",
       "    .dataframe thead th {\n",
       "        text-align: right;\n",
       "    }\n",
       "</style>\n",
       "<table border=\"1\" class=\"dataframe\">\n",
       "  <thead>\n",
       "    <tr style=\"text-align: right;\">\n",
       "      <th></th>\n",
       "      <th>sensor_00</th>\n",
       "      <th>sensor_01</th>\n",
       "      <th>sensor_02</th>\n",
       "      <th>sensor_03</th>\n",
       "      <th>sensor_04</th>\n",
       "      <th>sensor_05</th>\n",
       "      <th>sensor_06</th>\n",
       "      <th>sensor_07</th>\n",
       "      <th>sensor_08</th>\n",
       "      <th>sensor_09</th>\n",
       "      <th>...</th>\n",
       "      <th>sensor_44</th>\n",
       "      <th>sensor_45</th>\n",
       "      <th>sensor_46</th>\n",
       "      <th>sensor_47</th>\n",
       "      <th>sensor_48</th>\n",
       "      <th>sensor_49</th>\n",
       "      <th>sensor_51</th>\n",
       "      <th>machine_status</th>\n",
       "      <th>score</th>\n",
       "      <th>recons_error</th>\n",
       "    </tr>\n",
       "    <tr>\n",
       "      <th>date</th>\n",
       "      <th></th>\n",
       "      <th></th>\n",
       "      <th></th>\n",
       "      <th></th>\n",
       "      <th></th>\n",
       "      <th></th>\n",
       "      <th></th>\n",
       "      <th></th>\n",
       "      <th></th>\n",
       "      <th></th>\n",
       "      <th></th>\n",
       "      <th></th>\n",
       "      <th></th>\n",
       "      <th></th>\n",
       "      <th></th>\n",
       "      <th></th>\n",
       "      <th></th>\n",
       "      <th></th>\n",
       "      <th></th>\n",
       "      <th></th>\n",
       "      <th></th>\n",
       "    </tr>\n",
       "  </thead>\n",
       "  <tbody>\n",
       "    <tr>\n",
       "      <th>2018-08-31 23:58:00</th>\n",
       "      <td>-13.289546</td>\n",
       "      <td>-18.094316</td>\n",
       "      <td>-14.758448</td>\n",
       "      <td>-24.376147</td>\n",
       "      <td>-3.334409</td>\n",
       "      <td>-3.776715</td>\n",
       "      <td>-5.176124</td>\n",
       "      <td>-5.285236</td>\n",
       "      <td>-5.531327</td>\n",
       "      <td>-5.370540</td>\n",
       "      <td>...</td>\n",
       "      <td>-6.197381</td>\n",
       "      <td>-4.390743</td>\n",
       "      <td>-3.558389</td>\n",
       "      <td>-5.685503</td>\n",
       "      <td>-1.948388</td>\n",
       "      <td>-4.094978</td>\n",
       "      <td>-1.043587</td>\n",
       "      <td>NORMAL</td>\n",
       "      <td>7.166475</td>\n",
       "      <td>26.733658</td>\n",
       "    </tr>\n",
       "    <tr>\n",
       "      <th>2018-08-31 23:59:00</th>\n",
       "      <td>-13.331893</td>\n",
       "      <td>-18.094316</td>\n",
       "      <td>-14.758448</td>\n",
       "      <td>-24.376147</td>\n",
       "      <td>-3.334409</td>\n",
       "      <td>-3.776713</td>\n",
       "      <td>-5.176124</td>\n",
       "      <td>-5.284810</td>\n",
       "      <td>-5.531879</td>\n",
       "      <td>-5.371213</td>\n",
       "      <td>...</td>\n",
       "      <td>-6.197860</td>\n",
       "      <td>-4.390869</td>\n",
       "      <td>-3.558372</td>\n",
       "      <td>-5.685558</td>\n",
       "      <td>-1.948387</td>\n",
       "      <td>-4.095076</td>\n",
       "      <td>-1.043587</td>\n",
       "      <td>NORMAL</td>\n",
       "      <td>7.177563</td>\n",
       "      <td>26.808273</td>\n",
       "    </tr>\n",
       "  </tbody>\n",
       "</table>\n",
       "<p>2 rows × 53 columns</p>\n",
       "</div>"
      ],
      "text/plain": [
       "                     sensor_00  sensor_01  sensor_02  sensor_03  sensor_04  \\\n",
       "date                                                                         \n",
       "2018-08-31 23:58:00 -13.289546 -18.094316 -14.758448 -24.376147  -3.334409   \n",
       "2018-08-31 23:59:00 -13.331893 -18.094316 -14.758448 -24.376147  -3.334409   \n",
       "\n",
       "                     sensor_05  sensor_06  sensor_07  sensor_08  sensor_09  \\\n",
       "date                                                                         \n",
       "2018-08-31 23:58:00  -3.776715  -5.176124  -5.285236  -5.531327  -5.370540   \n",
       "2018-08-31 23:59:00  -3.776713  -5.176124  -5.284810  -5.531879  -5.371213   \n",
       "\n",
       "                     ...  sensor_44  sensor_45  sensor_46  sensor_47  \\\n",
       "date                 ...                                               \n",
       "2018-08-31 23:58:00  ...  -6.197381  -4.390743  -3.558389  -5.685503   \n",
       "2018-08-31 23:59:00  ...  -6.197860  -4.390869  -3.558372  -5.685558   \n",
       "\n",
       "                     sensor_48  sensor_49  sensor_51  machine_status  \\\n",
       "date                                                                   \n",
       "2018-08-31 23:58:00  -1.948388  -4.094978  -1.043587          NORMAL   \n",
       "2018-08-31 23:59:00  -1.948387  -4.095076  -1.043587          NORMAL   \n",
       "\n",
       "                        score  recons_error  \n",
       "date                                         \n",
       "2018-08-31 23:58:00  7.166475     26.733658  \n",
       "2018-08-31 23:59:00  7.177563     26.808273  \n",
       "\n",
       "[2 rows x 53 columns]"
      ]
     },
     "execution_count": 38,
     "metadata": {},
     "output_type": "execute_result"
    }
   ],
   "source": [
    "# visualization_df.to_csv('result.csv', index=False, encoding='cp949')\n",
    "visualization_df.tail(2)"
   ]
  },
  {
   "cell_type": "code",
   "execution_count": 30,
   "metadata": {},
   "outputs": [
    {
     "data": {
      "image/png": "[encoded data removed]",
      "text/plain": [
       "<Figure size 1152x432 with 1 Axes>"
      ]
     },
     "metadata": {
      "needs_background": "light"
     },
     "output_type": "display_data"
    }
   ],
   "source": [
    "## 시각화 하기\n",
    "fig = plt.figure(figsize=(16, 6))\n",
    "ax=fig.add_subplot(111)\n",
    "\n",
    "## 불량 구간 탐색 데이터\n",
    "labels = visualization_df['machine_status'].values.tolist()\n",
    "dates = visualization_df.index\n",
    "\n",
    "\n",
    "visualization_df['score'].plot(ax=ax)\n",
    "ax.legend(['abnormal score'], loc='upper right')\n",
    "\n",
    "## 고장구간 표시\n",
    "temp_start = dates[0]\n",
    "temp_date = dates[0]\n",
    "temp_label = labels[0]\n",
    "\n",
    "for xc, value in zip(dates, labels):\n",
    "    if temp_label != value:\n",
    "        if temp_label == \"BROKEN\":\n",
    "            ax.axvspan(temp_start, temp_date, alpha=0.2, color='blue')\n",
    "        if temp_label == \"RECOVERING\":\n",
    "            ax.axvspan(temp_start, temp_date, alpha=0.2, color='orange')\n",
    "        temp_start=xc\n",
    "        temp_label=value\n",
    "    temp_date = xc\n",
    "if temp_label == \"BROKEN\":\n",
    "    ax.axvspan(temp_start, xc, alpha=0.2, color='blue')\n",
    "if temp_label == \"RECOVERING\":\n",
    "    ax.axvspan(temp_start, xc, alpha=0.2, color='orange')"
   ]
  },
  {
   "cell_type": "code",
   "execution_count": 31,
   "metadata": {},
   "outputs": [
    {
     "data": {
      "image/png": "[encoded data removed]",
      "text/plain": [
       "<Figure size 1152x432 with 1 Axes>"
      ]
     },
     "metadata": {
      "needs_background": "light"
     },
     "output_type": "display_data"
    }
   ],
   "source": [
    "## 시각화 하기\n",
    "fig = plt.figure(figsize=(16, 6))\n",
    "ax=fig.add_subplot(111)\n",
    "\n",
    "## 불량 구간 탐색 데이터\n",
    "labels = visualization_df['machine_status'].values.tolist()\n",
    "dates = visualization_df.index\n",
    "\n",
    "\n",
    "visualization_df['recons_error'].plot(ax=ax)\n",
    "ax.legend(['reconstruction error'], loc='upper right')\n",
    "\n",
    "## 고장구간 표시\n",
    "temp_start = dates[0]\n",
    "temp_date = dates[0]\n",
    "temp_label = labels[0]\n",
    "\n",
    "for xc, value in zip(dates, labels):\n",
    "    if temp_label != value:\n",
    "        if temp_label == \"BROKEN\":\n",
    "            ax.axvspan(temp_start, temp_date, alpha=0.2, color='blue')\n",
    "        if temp_label == \"RECOVERING\":\n",
    "            ax.axvspan(temp_start, temp_date, alpha=0.2, color='orange')\n",
    "        temp_start=xc\n",
    "        temp_label=value\n",
    "    temp_date = xc\n",
    "if temp_label == \"BROKEN\":\n",
    "    ax.axvspan(temp_start, xc, alpha=0.2, color='blue')\n",
    "if temp_label == \"RECOVERING\":\n",
    "    ax.axvspan(temp_start, xc, alpha=0.2, color='orange')"
   ]
  }
 ],
 "metadata": {
  "kernelspec": {
   "display_name": "Python 3",
   "language": "python",
   "name": "python3"
  },
  "language_info": {
   "codemirror_mode": {
    "name": "ipython",
    "version": 3
   },
   "file_extension": ".py",
   "mimetype": "text/x-python",
   "name": "python",
   "nbconvert_exporter": "python",
   "pygments_lexer": "ipython3",
   "version": "3.7.7"
  }
 },
 "nbformat": 4,
 "nbformat_minor": 4
}
